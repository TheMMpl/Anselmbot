{
 "cells": [
  {
   "cell_type": "code",
   "execution_count": 1,
   "metadata": {},
   "outputs": [
    {
     "name": "stderr",
     "output_type": "stream",
     "text": [
      "/home/mm/.local/lib/python3.10/site-packages/tqdm/auto.py:21: TqdmWarning: IProgress not found. Please update jupyter and ipywidgets. See https://ipywidgets.readthedocs.io/en/stable/user_install.html\n",
      "  from .autonotebook import tqdm as notebook_tqdm\n"
     ]
    },
    {
     "name": "stdout",
     "output_type": "stream",
     "text": [
      "🦥 Unsloth: Will patch your computer to enable 2x faster free finetuning.\n"
     ]
    },
    {
     "name": "stderr",
     "output_type": "stream",
     "text": [
      "2024-09-16 22:13:53.591175: E external/local_xla/xla/stream_executor/cuda/cuda_fft.cc:485] Unable to register cuFFT factory: Attempting to register factory for plugin cuFFT when one has already been registered\n",
      "2024-09-16 22:13:53.723956: E external/local_xla/xla/stream_executor/cuda/cuda_dnn.cc:8454] Unable to register cuDNN factory: Attempting to register factory for plugin cuDNN when one has already been registered\n",
      "2024-09-16 22:13:53.756967: E external/local_xla/xla/stream_executor/cuda/cuda_blas.cc:1452] Unable to register cuBLAS factory: Attempting to register factory for plugin cuBLAS when one has already been registered\n",
      "2024-09-16 22:13:54.006906: I tensorflow/core/platform/cpu_feature_guard.cc:210] This TensorFlow binary is optimized to use available CPU instructions in performance-critical operations.\n",
      "To enable the following instructions: AVX2 FMA, in other operations, rebuild TensorFlow with the appropriate compiler flags.\n",
      "2024-09-16 22:13:55.099040: W tensorflow/compiler/tf2tensorrt/utils/py_utils.cc:38] TF-TRT Warning: Could not find TensorRT\n"
     ]
    },
    {
     "name": "stdout",
     "output_type": "stream",
     "text": [
      "==((====))==  Unsloth 2024.8: Fast Llama patching. Transformers = 4.44.2.\n",
      "   \\\\   /|    GPU: NVIDIA GeForce RTX 4060 Ti. Max memory: 15.697 GB. Platform = Linux.\n",
      "O^O/ \\_/ \\    Pytorch: 2.4.0+cu121. CUDA = 8.9. CUDA Toolkit = 12.1.\n",
      "\\        /    Bfloat16 = TRUE. FA [Xformers = 0.0.27.post2. FA2 = False]\n",
      " \"-____-\"     Free Apache license: http://github.com/unslothai/unsloth\n"
     ]
    }
   ],
   "source": [
    "from unsloth import FastLanguageModel\n",
    "import torch\n",
    "max_seq_length = 2048 # Choose any! We auto support RoPE Scaling internally!\n",
    "dtype = None # None for auto detection. Float16 for Tesla T4, V100, Bfloat16 for Ampere+\n",
    "load_in_4bit = True # Use 4bit quantization to reduce memory usage. Can be False.\n",
    "\n",
    "# 4bit pre quantized models we support for 4x faster downloading + no OOMs.\n",
    "fourbit_models = [\n",
    "    \"unsloth/Meta-Llama-3.1-8B-bnb-4bit\",      # Llama-3.1 15 trillion tokens model 2x faster!\n",
    "    \"unsloth/Meta-Llama-3.1-8B-Instruct-bnb-4bit\",\n",
    "    \"unsloth/Meta-Llama-3.1-70B-bnb-4bit\",\n",
    "    \"unsloth/Meta-Llama-3.1-405B-bnb-4bit\",    # We also uploaded 4bit for 405b!\n",
    "    \"unsloth/Mistral-Nemo-Base-2407-bnb-4bit\", # New Mistral 12b 2x faster!\n",
    "    \"unsloth/Mistral-Nemo-Instruct-2407-bnb-4bit\",\n",
    "    \"unsloth/mistral-7b-v0.3-bnb-4bit\",        # Mistral v3 2x faster!\n",
    "    \"unsloth/mistral-7b-instruct-v0.3-bnb-4bit\",\n",
    "    \"unsloth/Phi-3.5-mini-instruct\",           # Phi-3.5 2x faster!\n",
    "    \"unsloth/Phi-3-medium-4k-instruct\",\n",
    "    \"unsloth/gemma-2-9b-bnb-4bit\",\n",
    "    \"unsloth/gemma-2-27b-bnb-4bit\",            # Gemma 2x faster!\n",
    "] # More models at https://huggingface.co/unsloth\n",
    "\n",
    "model, tokenizer = FastLanguageModel.from_pretrained(\n",
    "    model_name = \"unsloth/Meta-Llama-3.1-8B\",\n",
    "    max_seq_length = max_seq_length,\n",
    "    dtype = dtype,\n",
    "    load_in_4bit = load_in_4bit,\n",
    "    # token = \"hf_...\", # use one if using gated models like meta-llama/Llama-2-7b-hf\n",
    ")"
   ]
  },
  {
   "cell_type": "code",
   "execution_count": null,
   "metadata": {},
   "outputs": [],
   "source": []
  },
  {
   "cell_type": "code",
   "execution_count": 2,
   "metadata": {},
   "outputs": [
    {
     "name": "stderr",
     "output_type": "stream",
     "text": [
      "Unsloth 2024.8 patched 32 layers with 32 QKV layers, 32 O layers and 32 MLP layers.\n"
     ]
    }
   ],
   "source": [
    "model = FastLanguageModel.get_peft_model(\n",
    "    model,\n",
    "    r = 16, # Choose any number > 0 ! Suggested 8, 16, 32, 64, 128\n",
    "    target_modules = [\"q_proj\", \"k_proj\", \"v_proj\", \"o_proj\",\n",
    "                      \"gate_proj\", \"up_proj\", \"down_proj\",],\n",
    "    lora_alpha = 16,\n",
    "    lora_dropout = 0, # Supports any, but = 0 is optimized\n",
    "    bias = \"none\",    # Supports any, but = \"none\" is optimized\n",
    "    # [NEW] \"unsloth\" uses 30% less VRAM, fits 2x larger batch sizes!\n",
    "    use_gradient_checkpointing = \"unsloth\", # True or \"unsloth\" for very long context\n",
    "    random_state = 3407,\n",
    "    use_rslora = False,  # We support rank stabilized LoRA\n",
    "    loftq_config = None, # And LoftQ\n",
    ")"
   ]
  },
  {
   "cell_type": "code",
   "execution_count": 3,
   "metadata": {},
   "outputs": [],
   "source": [
    "alpaca_prompt = \"\"\"Below is an instruction that describes a task, paired with an input that provides further context. Write a response that appropriately completes the request.\n",
    "\n",
    "### Instruction:\n",
    "{}\n",
    "\n",
    "### Input:\n",
    "{}\n",
    "\n",
    "### Response:\n",
    "{}\"\"\"\n",
    "\n",
    "EOS_TOKEN = tokenizer.eos_token # Must add EOS_TOKEN\n",
    "def formatting_prompts_func(examples):\n",
    "    instructions = examples[\"instruction\"]\n",
    "    inputs       = examples[\"input\"]\n",
    "    outputs      = examples[\"output\"]\n",
    "    texts = []\n",
    "    for instruction, input, output in zip(instructions, inputs, outputs):\n",
    "        # Must add EOS_TOKEN, otherwise your generation will go on forever!\n",
    "        text = alpaca_prompt.format(instruction, input, output) + EOS_TOKEN\n",
    "        texts.append(text)\n",
    "    return { \"text\" : texts, }\n",
    "pass\n",
    "\n",
    "from datasets import load_dataset\n",
    "dataset = load_dataset('json', data_files='anselmcombined.json',split = \"train\")\n",
    "#dataset = load_dataset(\"yahma/alpaca-cleaned\", split = \"train\")\n",
    "dataset = dataset.map(formatting_prompts_func, batched = True,)"
   ]
  },
  {
   "cell_type": "code",
   "execution_count": 4,
   "metadata": {},
   "outputs": [
    {
     "name": "stdout",
     "output_type": "stream",
     "text": [
      "['As the right order requires us to believe the deep things of Christian faith before we undertake to discuss them by reason; so to my mind it appears a neglect if, after we are established in the faith, we do not seek to understand what we believe. Therefore, since I thus consider myself to hold the faith of our redemption, by the prevenient grace of God, so that, even were I unable in any way to understand what I believe, still nothing could shake my constancy; I desire that you should discover to me, what, as you know, many besides myself ask, for what necessity and cause God, who is omnipotent, should have assumed the littleness and weakness of human nature for the sake of its renewal?', 'You ought not so much to fear this, because you should call to mind, on the other hand, that it often happens in the discussion of some question that God opens what before lay concealed; and that you should hope for the grace of God, because if you liberally impart those things which you have freely received, you will be worthy to receive higher things to which you have not yet attained.', 'You can speak so briefly with regard to these things, each in its place, that we may both have all that is requisite for the present object, and what remains to be said we can put off to another time.', 'Even this ought not to deter you, because, as you allow any one to talk better if he can, so you preclude none from writing more elegantly if your language does not please him. But, to cut you off from all excuses, you are not to fulfill this request of mine for the learned but for me, and those asking the same thing with me.', 'Suffer me, therefore, to make use of the words of infidels; for it is proper for us when we seek to investigate the reasonableness of our faith to propose the objections of those who are wholly unwilling to submit to the same faith, without the support of reason. For although they appeal to reason because they do not believe, but we, on the other hand, because we do believe; nevertheless, the thing sought is one and the same. And if you bring up anything in reply which sacred authority seems to oppose, let it be mine to urge this inconsistency until you disprove it.', 'Infidels ridiculing our simplicity charge upon us that we do injustice and dishonor to God when we affirm that he descended into the womb of a virgin, that he was born of woman, that he grew on the nourishment of milk and the food of men; and, passing over many other things which seem incompatible with Deity, that he endured fatigue, hunger, thirst, stripes and crucifixion among thieves.', 'These things must be admitted to be beautiful, and like so many pictures; but, if they have no solid foundation, they do not appear sufficient to infidels, as reasons why we ought to believe that God wished to suffer the things which we speak of. For when one wishes to make a picture, he selects something substantial to paint it upon, so that his picture may remain. For no one paints in water or in air, because no traces of the picture remain in them. Wherefore, when we hold up to infidels these harmonious proportions which you speak of as so many pictures of the real thing, since they do not think this belief of ours a reality, but only a fiction, they consider us, as it were, to be painting upon a cloud. Therefore the rational existence of the truth first be shown, I mean, the necessity, which proves that God ought to or could have condescended to those things which we affirm. Afterwards, to make the body of the truth, so to speak, shine forth more clearly, these harmonious proportions, like pictures of the body, must be described.', 'If this deliverance were said to be effected somehow by any other being than God (whether it were an angelic or a human being), the mind of man would receive it far more patiently. For God could have made some man without sin, not of a sinful substance, and not a descendant of any man, but just as he made Adam, and by this man it should seem that the work we speak of could have been done.', \"This they greatly wonder at, because we call this redemption a release. For, say they, in what custody or imprisonment, or under whose power were you held, that God could not free you from it, without purchasing your redemption by so many sufferings, and finally by his own blood? And when we tell them that he freed us from our sins, and from his own wrath, and from hell, and from the power of the devil, whom he came to vanquish for us, because we were unable to do it, and that he purchased for us the kingdom of heaven; and that, by doing all these things, he manifested the greatness of his love towards us; they answer: If you say that God, who, as you believe, created the universe by a word, could not do all these things by a simple command, you contradict yourselves, for you make him powerless. Or, if you grant that he could have done these things in some other way, but did not wish to, how can you vindicate his wisdom, when you assert that he desired, without any reason, to suffer things so unbecoming? For these things which you bring up are all regulated by his will; for the wrath of God is nothing but his desire to punish. If, then, he does not desire to punish the sins of men, man is free from his sins, and from the wrath of God, and from hell, and from the power of the devil, all which things are the sufferings of sin; and, what he had lost by reason of these sins, he now regains. For, in whose power is hell, or the devil? Or, whose is the kingdom of heaven, if it be not his who created all things? Whatever things, therefore, you dread or hope for, all lie subject to his will, whom nothing can oppose. If, then, God were unwilling to save the human race in any other way than that you mention, when he could have done it by his simple will, observe, to say the least, how you disparage his wisdom. For, if a man without motive should do, by severe toil, a thing which he could have done in some easy way, no one would consider him a wise man. As to your statement that God has shown in this way how much he loved you, there is no argument to support this, unless it be proved that he could not otherwise have saved man. For, if he could not have done it otherwise, then it was, indeed, necessary for him to manifest his love in this way. But now, when he could have saved man differently, why is it that, for the sake of displaying his love, he does and suffers the things which you enumerate? For does he not show good angels how much he loves them, though he suffer no such things as these for them? As to what you say of his coming to vanquish the devil for you, with what meaning dare you allege this? Is not the omnipotence of God everywhere enthroned? How is it, then, that God must needs come down from heaven to vanquish the devil? These are the objections with which infidels think they can withstand us. How the devil had no justice on his side against man; and why it was, that he seemed to have had it, and why God could have freed man in this way. MOREOVER, I do not see the force of that argument, which we are wont to make use of, that God, in order to save men, was bound, as it were, to try a contest with the devil in justice, before he did in strength, so that, when the devil should put to death that being in whom there was nothing worthy of death, and who was God, he should justly lose his power over sinners; and that, if it were not so, God would have used undue force against the devil, since the devil had a rightful ownership of man, for the devil had not seized man with violence, but man had freely surrendered to him. It is true that this might well enough be said, if the devil or man belonged to any other being than God, or were in the power of any but God. But since neither the devil nor man belong to any but God, and neither can exist without the exertion of Divine power, what cause ought God to try with his own creature (de suo, in suo), or what should he do but punish his servant, who had seduced his fellow-servant to desert their common Lord and come over to himself; who, a traitor, had taken to himself a fugitive; a thief, had taken to himself a fellow-thief, with what he had stolen from his Lord. For when one was stolen from his Lord by the persuasions of the other, both were thieves. For what could be more just than for God to do this? Or, should God, the judge of all, snatch man, thus held, out of the power of him who holds him so unrighteously, either for the purpose of punishing him in some other way than by means of the devil, or of sparing him, what injustice would there be in this? For, though man deserved to be tormented by the devil, yet the devil tormented him unjustly. For man merited punishment, and there was no more suitable way for him to be punished than by that being to whom he had given his consent to sin. But the infliction of punishment was nothing meritorious in the devil; on the other hand, he was even more unrighteous in this, because he was not led to it by a love of justice, but urged on by a malicious impulse. For he did not do this at the command of God, but God's inconceivable wisdom, which happily controls even wickedness, permitted it. And, in my opinion, those who think that the devil has any right in holding man, are brought to this belief by seeing that man is justly exposed to the tormenting of the devil, and that God in justice permits this; and therefore they suppose that the devil rightly inflicts it. For the very same thing, from opposite points of view, is sometimes both just unjust, and hence, by those who do not carefully inspect the matter, is deemed wholly just or wholly unjust. Suppose, for example, that one strikes an innocent person unjustly, and hence justly deserves to beaten himself; if, however, the one who was beaten, though he ought not to avenge himself, yet does strike the person who beat him, then he does it unjustly. And hence this violence on the part of the man who returns the blow is unjust, because he ought not to avenge himself; but as far as he who received the blow is concerned, it is just, for since he gave a blow unjustly, he justly deserves to receive one in return. Therefore, from opposite views, the same action is both just and unjust, for it may chance that one person shall consider it only just, and another only unjust. So also the devil is said to torment men justly, because God in justice permits this, and man in justice suffers it. But when man is said to suffer justly, it is not meant that his just suffering is inflicted by the hand of justice itself, but that he is punished by the just judgment of God. But if that written decree is brought up, which the Apostle says was made against us, and cancelled by the death of Christ; and if any one thinks that it was intended by this decree that the devil, as if under the writing of a sort of compact, should justly demand sin and the punishment of sin, of man, before Christ suffered, as a debt for the first sin to which he tempted man, so that in this way he seems to prove his right over man, I do not by any means think that it is to be so understood. For that writing is not of the devil, because it is called the writing of a decree of the devil, but of God. For by the just judgment of God it was decreed, and, as it were, confirmed by writing, that, since man had sinned, he should not henceforth of himself have the power to avoid sin or the punishment of sin; for the spirit is out-going and not returning (est enim spiritus vadens et non rediens); and he who sins ought not to escape with impunity, unless pity spare the sinner, and deliver and restore him. Wherefore we ought not to believe that, on account of this writing, there can be found any justice on the part of the devil in his tormenting man. In fine, as there is never any injustice in a good angel, so in an evil angel there can be no justice at all. There was no reason, therefore, as respects the devil, why God should not make use of as own power against him for the liberation of man. How, although the acts of Christ's condescension which we speak of do not belong to his divinity, it yet seems improper to infidels that these things should be said of him even as a man; and why it appears to them that this man did not suffer death of his own will.\", 'That is very true, if it be granted that God does wish the thing in question; but many will never allow that God does wish anything if it be inconsistent with reason.', 'This in brief: that the Most High should stoop to things so lowly, that the Almighty should do a thing with such toil.', 'Be it so; let nothing be referred to the Divine nature, which is spoken of Christ after the manner of human weakness; but how will it ever be made out a just or reasonable thing that God should treat or suffer to be treated in such a manner, that man whom the Father called his beloved Son in whom he was well pleased, and whom the Son made himself? For what justice is there in his suffering death for the sinner, who was the most just of all men? What man, if he condemned the innocent to free the guilty, would not himself be judged worthy of condemnation? And so the matter seems to return to the same incongruity which is mentioned above. For if he could not save sinners in any other way than by condemning the just, where is his omnipotence? If, however, he could, but did not wish to, how shall we sustain his wisdom and justice?', 'Though it were not against his will, since he agreed to the will of the Father; yet the Father seems to have bound him, as it were, by his injunction. For it is said that Christ \"humbled himself, being made obedient to the Father even unto death, and that the death of the cross. For which cause God also hath highly exalted him;\" and that \"he learned obedience from the things which he suffered;\" and that God spared not his own Son, but gave him up for us all.\" And likewise the Son says: \"I came not to do my own will, but the will of him that sent me.\" And when about to suffer, he says; \"As the Father hath given me commandment, so I do.\" Again: \"The cup which the Father hath given me, shall I not drink it? \" And, at another time : \"Father, if it be possible, let this cup pass from me; nevertheless, not as I will, but as thou wilt.\" And again: \"Father, if this cup may not pass from me except I drink it, thy will be done.\" In all these passages it would rather appear that Christ endured death by the constraint of obedience, than by the inclination of his own free will. How it was of his own accord that he died, and what this means: \"he was made obedient even unto death; \" and: \"for which cause God hath highly exalted him;\" and: \"I came not to do my own will; \" and: \"he spared not his own Son;\" and: \"not as I will, but as thou wilt.\"', 'I need to have you explain it more clearly.', 'For nothing else, but that, in word and in life, he invariably maintained truth and justice.', 'We ought to acknowledge this.', 'Very true, and I see also what infliction he endured, because he stood firm in obedience. For death was inflicted on him for his perseverance in obedience and he endured it; but I do not understand how it is that obedience did not demand this.', 'It is on this account that we believe that man would not have been subject to death, and that God would not have exacted this of him; but I should like to hear the reason of the thing from you.', 'Yes.', 'It is plain that, if man had not sinned, God ought not to compel him to die.', 'But this simple fact, that God allows him to be so treated, even if he were willing, does not seem becoming for such a Father in respect to such a Son.', 'The question which still troubles us is, how the death of the Son can be proved reasonable and necessary. For otherwise, it does not seem that the Son ought to desire it, or the Father compel or permit it. For the question is, why God could not save man in some other way, and if so, why he wished to do it in this way? For it both seems unbecoming for God to have saved man in this way; and it is not clear how the death of the Son avails for the salvation of man. For it is a strange thing if God so delights in, or requires, the blood of the innocent, that he neither chooses, nor is able, to spare the guilty without the sacrifice of the innocent.', 'In this matter, I accept nothing more willingly than that this agreement should be preserved between us in common.', 'It is so.', 'I grant it; for in these there is nothing which seems unbecoming or impossible for God.', 'We all hold this. What it is to sin, and to make satisfaction for sin.', 'It is yours to explain and mine to listen.', 'I cannot deny that.', 'What is the debt which we owe to God?', 'Nothing is more true.', 'Since we have determined to follow reason in all these things, I am unable to bring any objection against them, although you somewhat startle me. Whether it were proper for God to put away sins by compassion alone, without any payment of debt.', 'I do not see why it is not proper.', 'What you say is reasonable.', 'If I wish to oppose this, I fear to sin.', 'Thus it follows.', 'I cannot deny it.', 'This is our belief.', 'I cannot conceive it to be otherwise.', 'I cannot withstand your reasoning. But when God commands us in every case to forgive those who trespass against us, it seems inconsistent to enjoin a thing upon us which it is not proper for him to do himself.', 'You have obviated the difficulty which I thought to exist; but there is another to which I would like to have your answer. For since God is so free as to be subject to no law, and to the judgment of no one, and is so merciful as that nothing more merciful can be conceived; and nothing is right or fit save as he wills; it seems a strange thing for us to say that he is wholly unwilling or unable to put away an injury done to himself, when we are wont to apply to him for indulgence with regard to those offences which we commit against others.', 'You remove from me every possible objection which I had thought of bringing against you.', 'I listen readily to whatever you say. How nothing less was to be endured, in the order of things, than that the creature should take away the honor due the Creator and not restore what he takes away.', 'Nothing is more plain than this.', 'This, also, is plain.', 'No; I think it should be wholly denied.', 'There is nothing clearer than this.', 'I must agree with you.', 'I dare not say so.', \"But I wish to hear from you whether the punishment of the sinner is an honor to God, or how it is an honor. For if the punishment of the sinner is not for God's honor when the sinner does not pay what he took away, but is punished, God loses his honor so that he cannot recover it. And this seems in contradiction to the things which have been said.\", 'What you say satisfies me. But there is still another point which I should like to have you answer. For if, as you make out, God ought to sustain his own honor, why does he allow it to be violated even in the least degree? For what is in any way made liable to injury is not entirely and perfectly preserved.', 'You have relieved my objection.', 'I know of nothing which can be said against this.', 'Go on, until I am weary of listening. The reason why the number of angels who fell must be made up from men.', 'This is a part of our belief, but still I should like to have some reason for it.', 'Be not angry with me; \"for the Lord loveth a cheerful giver;\" and no one shows better how cheerfully he gives what he promises, than he who gives more than he promises; therefore, tell me freely what I ask.', 'The truth which you set forth is plain.', 'Doubtless, then, the number must be restored.', 'Why could not they themselves be restored, or other angels substituted for them?', 'You have proved that the evil angels must be restored from the human race; and from this reasoning it appears that the number of men chosen will not be less than that of fallen angels. But show, if you can, whether it will be greater. Whether there will be more holy men than evil angels.', 'Which is the better theory, that angels were originally made perfect in number or that they were not?', 'I cannot ask more of you.', 'You have not labored in vain.', 'Let us hear it.', 'We are agreed.', 'Is not the case similar to that of the Gentiles who were called unto faith, because the Jews rejected it?', 'I see no way of opposing you.', 'Whence, to be sure, but from the fact that each individual will be certain that, had not another fallen, he would never have attained the place where he now is?', 'So it appears.', 'I certainly cannot think that any one would or ought to have it. For how can any one know whether he were created to restore the part diminished, or to make up that which was not yet complete in the number necessary to constitute the state? But all are sure that they were made with a view to the perfection of that kingdom.', 'That is true.', 'So it appears.', 'I see not how this can be denied.', 'You ought then to present it.', 'What you say seems very reasonable to me. But what shall we think of that which is said respecting God: \"He hath appointed the bounds of the people according to the number of the children of Israel;\" which some, because for the expression \"children of Israel\" is found sometimes \"angels of God,\" explain in this way, that the number of elect men taken should be understood as equal to that of good angels?', 'I by no means regret that I urged you to these remarks about the angels, for it has not been for naught. Now let us return from our digression. How man cannot be saved without satisfaction for sin.', 'That is certain.', 'Truly it is fitting that men should be equal with good angels.', 'No.', 'These words I can both think of and utter, but can no more perceive their meaning than I can make truth out of falsehood.', 'Reason shows this.', 'Tell your opinion, and I will attend to it as well as I can.', 'I accept your supposition.', 'How can I? for would it not be far better to keep and preserve his pearl pure, than to have it polluted?', 'I dare not deny the aptness of your comparison, were God to do this, and therefore do not admit that he can do this. For it should seem either that he could not accomplish what he designed, or else that he repented of his good intent, neither of which things is possible with God.', 'I am wholly unable to refute your reasoning. But what say you to this: that we pray God, \"put away our sins from us,\" and every nation prays the God of its faith to put away its sins. For, if we pay our debt, why do we pray God to put it away? Is not God unjust to demand what has already been paid? But if we do not make payment, why do we supplicate in vain that he will do what he cannot do, because it is unbecoming?', 'Your reply with regard to this matter suffices me for the present. And, moreover, you have so clearly shown that no man can attain happiness in sin, or be freed from sin without satisfaction for the trespass, that, even were I so disposed, I could not doubt it. That satisfaction ought to be proportionate to guilt; and that man is of himself unable to accomplish this.', 'Otherwise sin would remain in a manner exempt from control (inordinatum), which cannot be, for God leaves nothing uncontrolled in his kingdom. But this is determined, that even the smallest unfitness is impossible with God.', 'Repentance, a broken and contrite heart, self-denial, various bodily sufferings, pity in giving and forgiving, and obedience.', 'Do I not honor God, when, for his love and fear, in heartfelt contrition I give up worldly joy, and despise, amid abstinence and toils, the delights and ease of this life, and submit obediently to him, freely bestowing my possessions in giving to and releasing others?', 'Truly I dare not say that in all these things I pay any portion of my debt to God.', 'If in justice I owe God myself and all my powers, even when I do not sin, I have nothing left to render to him for my sin.', 'Merely looking at your arguments, I see no way of escape. But, turning to my belief, I hope through Christian faith, \"which works by love,\" that I may be saved, and the more, since we read that if the sinner turns from his iniquity and does what is right, all his transgressions shall be forgotten.', 'We did so.', 'Though you bring me into straits, yet I very much wish you to proceed as you have begun. How great a burden sin is.', 'Did I not hear you question the thing, I should suppose that a single repentant feeling on my part would blot out this sin.', 'Show it me then.', 'I can find no motive which would make it right; unless, indeed I am so situated as to make it necessary for me either to do this, or some greater sin.', 'I see plainly that I cannot.', \"When I consider the action itself, it appears very slight; but when I view it as contrary to the will of God, I know of nothing so grievous, and of no loss that will compare with it; but sometimes we oppose another's will without blame in order to preserve his property, so that afterwards he is glad that we opposed him.\", 'I must confess that I ought not to oppose the will of God even to preserve the whole creation.', 'Were they increased to an infinite extent, and held before me in like manner, my reply would be the same.', 'I can only repeat what I said before.', 'I cannot deny it.', 'Reason seems to demand this, and to make the contrary wholly impossible.', 'This decision is most weighty.', 'This alone would drive me to despair, were it not for the consolation of faith.', 'Say on. What contempt man brought upon God, when he allowed himself to be conquered by the devil; for which he can make no satisfaction.', 'To what would you bring me?', 'Again I say that the thing is impossible, and reason approves what you say.', 'You have already presented so many obligations which we ought to fulfill, that nothing which you can add will alarm me more.', 'I will. What man took from God by his sin, which he has no power to repay.', 'Go on to mention, as you have begun, the evil things which can be added to those already shown for I am ignorant of them.', 'There is no denying that.', 'Surely nothing can be more exactly or justly conceived.', 'I dare not think it.', 'There is nothing more just or necessary; but, from all these things, the compassion of God and the hope of man seems to fail, as far as regards that happiness for which man was made.', 'Have you anything further? How, as long as man does not restore what he owes God, he cannot be happy, nor is he excused by want of power.', 'If he can pay and yet does not, he is certainly unjust. But if he be not able, wherein is he unjust?', 'By no means, but will rather increase his crime, since he brought his inability upon himself. For doubly hath he sinned, in not doing what he was commanded to do and in doing what he was forewarned not to do.', 'This argument is exceedingly weighty, and must be true.', 'This is very true; for he is unjust, both in not paying, and in not being able to pay.', 'I dare not think otherwise.', 'I cannot deny that this is so.', 'I think, then, we must look for another mercy than this.', 'I could wish it were so.', 'Nothing can be plainer.', 'This also is plain.', \"If God follows the method of justice, there is no escape for the miserable wretch, and God's compassion seems to fail.\", 'I see not how your reasons can be at all invalidated.', 'Surely this is so. But how, then, shall man be saved, if he neither pays what he owes, and ought not to be saved without paying? Or, with what face shall we declare that God, who is rich in mercy above human conception, cannot exercise this compassion?', \"Let me ask you, as I have begun, to show me how a man is saved by Christ. How man's salvation by Christ is necessarily possible.\", 'But what reply will you make to a person who perceives that man cannot be saved in any other way, and yet, not understanding how he can be saved by Christ, sees fit to declare that there cannot be any salvation either by Christ or in any other way?', 'That he is a fool.', 'Very true; but we ought to show him in what way the thing is true which he holds to be impossible.', 'What you say is true.', 'I come not for this purpose, to have you remove doubts from my faith, but to have you show me the reason for my confidence. Therefore, as you have brought me thus far by your reasoning, so that I perceive that man as a sinner owes God for his sin what he is unable to pay, and cannot be saved without paying; I wish you would go further with me, and enable me to understand, by force of reasoning, the fitness of all those things which the Catholic faith enjoins upon us with regard to Christ, if we hope to be saved; and how they avail for the salvation of man, and how God saves man by compassion; when he never remits his sin, unless man shall have rendered what was due on account of his sin. And, to make your reasoning the clearer, begin at the beginning, so as to rest it upon a strong foundation.', 'It must be so.', 'But what shall we say to one who tells us that this is right enough with regard to those in whom humanity shall be perfectly restored, but is not necessary as respects the reprobate?', 'You have promptly satisfied me in these matters. How God will complete, in respect to human nature, what he has begun.', 'No reasonable being can think otherwise.', 'But if it be so, then God seems as it were compelled, for the sake of avoiding what is unbecoming, to secure the salvation of man. How, then, can it be denied that he does it more on his own account than on ours? But if it be so, what thanks do we owe him for what he does for himself? How shall we attribute our salvation to his grace, if he saves us from necessity?', 'I grant it. How no being, except the God-man, can make the atonement by which man is saved.', 'So it appears.', 'I cannot deny it.', 'So it appears.', 'Nothing seems more just.', 'Now blessed be God! we have made a great discovery with regard to our question. Go on, therefore, as you have begun. For I hope that God will assist you.', 'All that you say is satisfactory to me. How it behooved God to take a man of the race of Adam, and born of a woman.', 'If we follow reason, as we proposed to do, this is the necessary result.', 'So far, it is well.', 'I agree with you.', 'There is no other source.', 'Your speech gratifies my heart.', 'Nothing can be more sound.', 'They are certainly very beautiful and reasonable. How of necessity the Word only can unite in one person with man.', 'Yet briefly glance at this matter, why the person of the Son should be incarnated rather than that of the Father or the Holy Spirit.', 'The way by which you lead me is so guarded by reason that I cannot deviate from it to the right or left.', 'Let me delay you a little on this point. For in either case it is no slight question with me whether it be said that he can sin or that he cannot. For if it be said that he cannot sin, it should seem hard to be believed. For to say a word concerning him, not as of one who never existed in the manner we have spoken hitherto, but as of one whom we know and whose deeds we know; who, I say, will deny that he could have done many things which we call sinful? For, to say nothing of other things, how shall we say that it was not possible for him to commit the sin of lying? For, when he says to the Jews, of his Father: \"If I say that I know him not, I shall be a liar, like unto you,\" and, in this sentence, makes use of the words : \"I know him not,\" who says that he could not have uttered these same four words, or expressing the same thing differently, have declared, \"I know him not?\" Now had he done so, he would have been a liar, as he himself says, and therefore a sinner. Therefore, since he could do this, he could sin.', 'How is that?', 'Now let us return to our original inquiry with regard to that man, as if nothing were known of him. I say, then, if he were unable to sin, because, according to you, he could not wish to sin, he maintains holiness of necessity, and therefore he will not be holy from free will. What thanks, then, will he deserve for his holiness? For we are accustomed to say that God made man and angel capable of sinning on this account, that, when of their own free will they maintained holiness, though they might have abandoned it, they might deserve commendation and reward, which they would not have done had they been necessarily holy.', 'Doubtless they are, because they deserved this present inability to sin from the fact that when they could sin they refused to do so.', 'I should like to have you answer that question for me; for if I say that he deserves no praise, I know that I speak falsely. If, on the other hand, I say that he does deserve praise, I am afraid of invalidating my reasoning with respect to the angels.', 'You have satisfied me on this point; and I see clearly that it is both true that he could not sin, and yet that he deserves praise for his holiness. But now I think the question arises, since God could make such a man, why he did not create angels and our first parents so as to be incapable of sin, and yet praiseworthy for their holiness?', 'I think I understand, and it is therefore I ask why he did not make them so.', 'I blush to have asked the question. Go on with what you have to say.', 'I must agree with you. How Christ dies of his own power, and how mortality does not inhere in the essential nature of man.', 'We need hardly dispute with regard to this, since he will be really man, and every man is by nature mortal.', 'Seek then for some other reason, since I know of none, if you do not, by which we may prove that he can die.', 'Certainly.', 'If not, he would scarcely seem to be omnipotent.', 'There is no doubt about it.', 'To this we are unavoidably brought by reason.', 'Yes.', 'Very true.', 'So it appears.', 'I cannot see how it should be otherwise.', 'This is so.', 'So it seems from what has been already said.', 'This cannot be denied.', 'Reason urges us to this conclusion.', 'Else I cannot understand it.', 'Speak you, and I will listen with pleasure.', 'Surely, there is nothing more reasonable.', 'All these things are true.', 'I think it is plain that the man whom we seek for should not only be one who is not necessarily subject to death on account of his omnipotence, and one who does not deserve death on account of his sin, but also one who can die of his own free will, for this will be necessary.', 'All these things plainly show that he ought to be mortal and to partake of our weaknesses. But all these things are our miseries. Will he then be miserable?', 'But tell me whether, in this likeness to men which he ought to have, he will inherit also our ignorance, as he does our other infirmities?', 'No! but, although this man be immortal in respect to his Divine nature, yet will he be mortal in his human nature. For why will he not be like them in their ignorance, as he is in their mortality?', 'In his more mature years, this should seem to he as you say; but, in infancy, as it will not be a fit time to discover wisdom, so there will be no need, and therefore no propriety, in his having it.', 'Now I ask you to tell me how his death can outweigh the number and magnitude of our sins, when the least sin we can think of you have shown to be so monstrous that, were there an infinite number of worlds as full of created existence as this, they could not stand, but would fall back into nothing, sooner than one look should be made contrary to the just will of God.', 'No! not even were an infinite number of worlds displayed before me.', 'I should answer, that I would far rather bear all other sins, not only those of this world, past and future, but also all others that can be conceived of, than this alone. And I think I ought to say this, not only with regard to killing him, but even as to the slightest injury which could be inflicted on him.', 'A sin committed upon his person exceeds beyond comparison all the sins which can be thought of, that do not affect his person.', 'God has no need of such patience, for all things lie in subjection to his power, as you answered a certain question of mine above.', 'This is most plain.', 'If its existence is as great a good as its destruction is an evil, then is it far more a good than those sins are evils which its destruction so far surpasses.', 'I cannot help seeing this.', 'Yes! it has even infinite value.', 'Plainly.', 'This is properly so with regard to all sins not affecting the person of the Deity. But let me ask you one thing more. If it be as great an evil to slay him as his life is a good, how can his death overcome and destroy the sins of those who slew him? Or, if it destroys the sin of any one of them, how can it not also destroy any sin committed by other men? For we believe that many men will be saved, and a vast many will not be saved.', 'You have reasonably shown that the murderers of Christ can obtain pardon for their sin.', 'As, therefore, you have disclosed the reason of those things mentioned above, I beg you will also explain what I am now about to ask. First, then, how does God, from a sinful substance, that is, of human species, which was wholly tainted by sin, take, a man without sin, as an unleavened lump from that which is leavened? For, though the conception of this man be pure, and free from the sin of fleshly gratification, yet the virgin herself, from whom he sprang, was conceived in iniquity, and in sin did her mother bear her, since she herself sinned in Adam, in whom all men sinned.', 'I allow that no man can wholly discover so great a mystery in this life, and I do not desire you to do what no man can do, but only to explain it according to your ability. For you will sooner convince me that deeper reasons lie concealed in this matter, by showing some one that you know of, than if, by saying nothing, you make it appear that you do not understand any reason.', 'This I readily allow.', 'You show by correct reasoning, such as nothing can oppose, that there never was a time since man was created when there has not been some one who was gaining that reconciliation without which every man was made in vain. So that we rest upon this as not only proper but also necessary. For if this is more fit and reasonable than that at any time there should be no one found fulfilling the design for which God made man, and there is no further objection that can be made to this view, then it is necessary that there always be some person partaking of this promised pardon. And, therefore, we must not doubt that Adam and Eve obtained part in that forgiveness, though Divine authority makes no mention of this.', 'Nay, undoubtedly we ought to believe that God made them for this purpose, viz., to belong to the number of those for whose sake they were created.', 'So we believe.', 'What you say would satisfy me, were it not that he ought to be pure of himself, whereas he appears to have his purity from his mother and not from himself.', 'Thus far it is well. But there is yet another matter that needs to be looked into. For we have said before that his death was not to be a matter of necessity; yet now we see that his mother was purified by the power of his death, when without this he could not have been born of her. How, then, was not his death necessary, when he could not have been, except in view of future death? For if he were not to die, the virgin of whom he was born could not be pure, since this could only be effected by true faith in his death, and, if she were not pure, he could not be born of her. If, therefore, his death be not a necessary consequence of his being born of the virgin, he never could have been born of her at all; but this is an absurdity.', 'I see not how.', 'It is so.', 'But those powers were not in all respects similar, the power to lie and the power to preserve his life. For, if he wished to lie, he would of course be able to; but, if he wished to avoid the other, he could no more do it than he could avoid being what he is. For he became man for this purpose, and it was on the faith of his coming death that he could receive birth from a virgin, as you said above.', 'Yes, since dying and wishing to die are included in the same mode of reasoning, both would seem to fall under a like necessity.', 'God, the Son of God.', 'It has been clearly shown. But we see, on the other hand, that what God unchangeably wishes cannot avoid being so, but takes place of necessity. Wherefore, if God wished that man to die, he could but die.', 'So I perceive.', 'It is so.', 'I cannot deny it.', 'To your arguments I cannot object; for neither your propositions nor your inferences can I invalidate in the least. But yet this thing which I have mentioned always recurs to my mind: that, if he wished to avoid death, he could no more do it than he could escape existence. For it must have been fixed that he was to die, for had it not been true that he was about to die, faith in his coming death would not have existed, by which the virgin who gave him birth and many others also were cleansed from their sin. Wherefore, if he could avoid death, he could make untrue what was true.', 'Because this was his free and unchangeable desire.', 'This is so; but whatever be the reason, it still remains certain that he could not avoid death, but that it was a necessary thing for him to die.', 'Are you not forgetting my reply to the excuses you made at the beginning of our discussion, viz., that you should explain the subject, not as to learned men, but to me and my fellow inquirers? Suffer me, then, to question you as my slowness and dullness require, so that, as you have begun thus far, you may go on to settle all our childish doubts. How, with God there is neither necessity nor impossibility, and what is a coercive necessity, and what one that is not so.', 'You have satisfied me that it cannot be proved that he was subjected to death by any necessity; and I cannot regret my importunity in urging you to make this explanation.', 'As you choose; but with this condition that, by the help of God, you will sometime give this other explanation, which you owe me, as it were, but which now you avoid discussing.', \"The substance of the inquiry was this, why God became man, for the purpose of saving men by his death, when he could have done it in some other way. And you, by numerous and positive reasons, have shown that the restoring of mankind ought not to take place, and could not, without man paid the debt which he owed God for his sin. And this debt was so great that, while none but man must solve the debt, none but God was able to do it; so that he who does it must be both God and man. And hence arises a necessity that God should take man into unity with his own person; so that he who in his own nature was bound to pay the debt, but could not, might be able to do it in the person of God. In fine, you have shown that that man, who was also God, must be formed from the virgin, and from the person of the Son of God, and that he could be taken without sin, though from a sinful substance. Moreover, you have clearly shown the life of this man to have been so excellent and so glorious as to make ample satisfaction for the sins of the whole world, and even infinitely more. It now, therefore, remains to be shown how that payment is made to God for the sins of men. How Christ's life is paid to God for the sins of men, and in what sense Christ ought, and in what sense he ought not, or was not bound, to suffer.\", 'It should seem so, but I cannot understand, although I do not doubt it, how he could do this reasonably. If I saw how he could be perfectly holy, and yet forever preserve his life, I would acknowledge that he freely gave, for the honor of God, such a gift as surpasses all things else but God himself, and is able to atone for all the sins of men.', 'But surely there was no need of this, for many persons before his coming, and John the Baptist after his coming but before his death, had sufficiently enforced this example by nobly dying for the sake of the truth.', 'You very nearly meet my wishes; but suffer me to make one inquiry, which you may think foolish, but which, nevertheless, I find no easy thing to answer. You say that when he died he gave what he did not owe. But no one will deny that it was better for him, or that so doing he pleased God more than if he had not done it. Nor will any one say that he was not bound to do what was best to be done, and what he knew would be more pleasing to God. How then can we affirm that he did not owe God the thing which he did, that is, the thing which he knew to be best and most pleasing to God, and especially since every creature owes God all that he is and all that he knows and all that he is capable of?', 'Now I see clearly that he did not give himself up to die for the honor of God, as a debt; for this my own reason proves, and yet he ought to have done what he did.', 'This I readily acknowledge. How human salvation follows upon his death.', 'This is the very wish of my heart. For, although I think I understand you, yet I wish to get from you the close chain of argument.', 'That is clear enough already.', 'I see that it is necessary for the Father to reward the Son; else he is either unjust in not wishing to do it, or weak in not being able to do it; but neither of these things can be attributed to God.', 'I see on the one hand a necessity for a reward, and on the other it appears impossible; for God must necessarily render payment for what he owes, and yet there is no one to receive it.', 'Such a supposition is impious.', 'This is necessarily so.', 'No! but I think it would be both just and necessary that the gift should be given by the Father to whomsoever the Son wished; because the Son should be allowed to give away what is his own, and the Father cannot bestow it at all except upon some other person.', 'The universe can hear of nothing more reasonable, more sweet, more desirable. And I receive such confidence from this that I cannot describe the joy with which my heart exults. For it seems to me that God can reject none who come to him in his name.', 'And whatever is built on this foundation is founded on an immovable rock.', 'All things which you have said seem to me reasonable and incontrovertible. And by the solution of the single question proposed do I see the truth of all that is contained in the Old and New Testament. For, in proving that God became man by necessity, leaving out what was taken from the Bible, viz., the remarks on the persons of the Trinity, and on Adam, you convince both Jews and Pagans by the mere force of reason. And the God- man himself originates the New Testament and approves the Old. And, as we must acknowledge him to be true, so no one can dissent from anything contained in these books.', 'Since free choice seems to be opposed to the grace, predestination, and foreknowledge of God, I desire to know what freedom of choice is and whether we always have it. For if freedom of choice consists in being able to sin and not to sin (as some per- sons are accustomed to say) and if we always have this ability, how is it that we sometimes need grace? But if we do not always have this ability, why is sin imputed to us when we sin without a free choice?', 'What if we say that the free choice of God and of the good angels is different from ours?', \"That's the reason I am here.\", 'I do not see why a will which has both abilities [viz., to sin and not to sin] is not the more free.', 'I think that no one doubts this.', 'No one of sound mind thinks otherwise.', 'Nothing can more reasonably be asserted, it seems to me.', 'I am not able to think this.', 'Nothing follows more logically. Nevertheless, the angel and the man sinned by means of this ability and by free choice; and although they were able to serve sin, sin was not able to master them.', 'I cannot at all contradict your reasoning. Yet, I am quite dis- turbed by the fact that in the beginning angelic nature and our nature had the ability to sin, without which neither would have sinned. If, then, each of these natures sinned by means of this abil- ity which is so foreign to free choice, how shall we say that it194 sinned by free choice? But if it did not sin by free choice, it is seen to have sinned of necessity. Surely [it sinned] either freely or of necessity. Now, if it sinned freely, how could it have failed to sin by free choice? Hence, if it did not sin by free choice, then sure- ly it is seen to have sinned of necessity. There is also something else which bothers me about this abil- ity to sin. Someone who is able to sin is able to be the servant of sin since “He who does sin is the servant of sin.”1 But whoever is able to be the servant of sin is able to be mastered by sin. So how is it that either of these natures was created free if sin was able to master it, or of what kind was that free choice which sin could mas- ter?', 'I need to have you disclose what you mean, for it is concealed from me.', 'You have convinced me that, before sin, nothing indeed pre- vented this [i.e., prevented Satan’s and Adam’s having had free choice]. But after they made themselves servants of sin, how is it that they were able to keep free choice?', 'I believe, but I desire to understand.', 'I am expectantly awaiting this [examination].', 'To will what they ought to will and what was advantageous to will.', \"That's right. In the Latin text at S I, 210:30: “non” is to be deleted.196\", \"(NOT 1) I do not think they had freedom in order to acquire uprightness without anyone's giving it, because they were not able to have anything which they did not receive. (NOT 2) But because we must not believe that they were created without upright wills, we must not say that they had freedom in order to receive from a giver [the gift of the uprightness] that they did not yet have, in order that they might have it. Yet, we must not deny that they had the freedom to receive this same uprightness again if they deserted it and if it were returned to them by the one who originally gave it. (We often see evidence of this in men who are led back to jus- tice from injustice by heavenly grace.)\", 'Well then, I shall proceed to reply to what remains of your question. (NOT 3) It is not true that they had freedom in order to desert this uprightness, for to desert uprightness-of-will is to sin, and you have already shown that the ability to sin is neither free- dom nor a part of freedom. Nor did they receive freedom in order to recover, by their own efforts, the uprightness they had desert- ed; for this uprightness was given to the end that it never be de- serted. For the ability to recover uprightness-once-deserted would beget a negligence in keeping uprightness-already-possessed. (4) Therefore, it follows that freedom of choice was given to rational nature in order to keep the uprightness-of-will which it had re- ceived.', 'If freedom-of-choice had not been given to rational nature in order for it to keep uprightness-of-will for the sake of this up- rightness itself, then freedom would not have been conducive to justice, since it is evident that justice is uprightness-of-will kept for its own sake. But we believe that freedom of choice is conducive to justice. Therefore, we must maintain incontrovertibly that ra- tional nature did not receive freedom except in order to keep up- rightness-of-will for the sake of this uprightness itself.', 'It cannot be anything else.', 'This conclusion is certainly obvious. But as long as [choice] had this uprightness, it was able to keep what it had. However, after it has deserted uprightness, how is it able to keep what it does not have? Therefore, in the absence of the uprightness which can be kept, the free choice which is able to keep uprightness is also absent; for a choice is not able to keep what it does not have.', 'Surely, anyone who is unable to see a mountain has no sight.', 'Everyone knows all this.', 'I see this clearly.', 'Surely no one is ignorant of it.', 'But in what way is the choice of the human will free by virtue of this ability, since oftentimes a man who has an upright will deserts this uprightness against his will because of the pressure of temptation?', 'If someone who lies in order not to be killed does so only willingly, then how is it that he is said to lie against his will? For just as against his will he lies, so against his will he wills to lie. And someone who against his will wills to lie, unwillingly wills to lie.', 'I cannot deny what you are saying.', 'By like reasoning, can we not say that the will of a horse is free because it serves the appetite of the f lesh only willingly?', 'You have satisfactorily met my objection regarding the will of a horse. Return to where we were.', 'I do not see how to deny this.', 'To will uprightness perseveringly is for it to overcome; but to will what it ought not [to will] is for it to be overcome.', \"I don't see this to be false in any respect.\", 'What has been said proves this conclusion.', 'You so subdue all assaults on our will and so forbid any temp- tation to master it that I am not at all able to resist your claims. Nevertheless, I cannot keep from mentioning that in our will there is a powerlessness which nearly all of us experience when we are overcome by the “irresistible appeal” of temptation. Accordingly, unless you render consistent the power you prove and the power- lessness we feel, my mind cannot come to rest regarding this topic.', \"In the will's not being able perseveringly to cling to up- rightness.\", 'Admittedly.', 'The force of temptation.', \"That's right. But the temptation by its own force compels the will to will what it is suggesting.\", 'Although I must admit that sometimes we are so pressured by temptations that we cannot without difficulty (difficultate) keep from willing what they suggest, I cannot say that they ever pres- sure us to the point that we cannot at all keep from willing what they advise.', 'Just as I am not at all able to deny what you prove, so I am not at all able to affirm that the will is stronger than temptation when it is overcome by temptation. For if the will-to-keep-up- rightness were stronger than the force of temptation, then in will- ing what was in its possession the will would resist more strongly than temptation would insist. For on no other basis do I know that I have a will that is more or less strong than that I will more or less strongly. Therefore, when I will less strongly what I ought than temptation suggests what I ought not, I do not see how it is that temptation is not stronger than my will.', 'I would like to know about this equivocation.', 'I see this clearly, and I am delighted by this distinction [of meanings] of “will.” And I now seem to see what deception I was experiencing because of ignorance of this distinction. But go on, nevertheless, with what you have begun.', 'In the will which is the instrument-for-willing.', 'I would judge him to be equally strong in each task but would maintain that he did not use his strength equally, for to hold a bull takes more strength than to hold a ram. Now, the man is strong because he has strength; but his action is called strong because it is done strongly.', 'I must admit that your explanation is now clear to me.', 'Is God able to remove uprightness from the will?', 'I very eagerly await from you an argument for this claim of yours, which I have not heard before.', 'The will which does not will this is obviously unjust.', 'Yes, I must agree.', 'He cannot [do it] unwillingly.', 'Yes, without doubt, He would will it.', 'This follows.', 'Even if it had not already been posited, nevertheless it would be true.', 'Nothing follows more logically, and nothing is more impos- sible.', 'What you say seems so obvious to me that I think nothing can be said against it. Nothing is more free than an upright will.Freedom of Choice 9 & 10 207', 'This point is seen clearly, since the will would display greater strength for willing eternal salvation [salus] for its own sake and truth for the sake of [this] reward than [it would display] for keep- ing temporal salvation [salus]. How one who sins is a servant of sin. It is a greater miracle when God restores uprightness [to a will] which has deserted it than when He restores life to the dead.', 'Nonetheless, by this conclusion you have greatly curbed my joy because I was already supposing myself to be certain that a man always has freedom of choice. Therefore, I ask that this servi- tude be explained to me lest perchance it seem opposed to the freedom we were discussing. For both this freedom and this servi- tude are in the will; and in accordance with each a man is either free or enslaved. If, then, he is a servant, how is it that he free? Or if he is free, how is it that he a servant?', 'But I greatly desire to know why when a man does not have uprightness he is said to be free (on the ground that when he does have uprightness it cannot be taken away from him by someone else) rather than when he does have uprightness, being said to be a servant (on the ground that when he does not have uprightness he cannot recover it by himself). For with respect to the fact that he cannot return from sin he is a servant; and with respect to the fact that he cannot [forcibly] be drawn away from uprightness he is free. And just as he can never [forcibly] be drawn away [from uprightness] if he has it, so if he does not have it he can never re- turn [from sin]. Therefore, just as he always has this freedom, so he seems always to have this servitude.', 'If I had thought carefully about what was said earlier, when you distinguished into four capabilities the capability to see, I would not have been puzzled here. Therefore, I acknowledge that my confusion was my own fault.', 'Thank you for your indulgence. But do not be surprised if those points about which I am unaccustomed to think are not all continually present in my mind for viewing after [only] one hear- ing.', 'There is one thing which still disturbs me somewhat about this definition. For we often have an ability to keep something,Freedom of Choice 13 211 and yet that ability is not free to the point that it cannot be im- peded by an alien force. Hence, when you say that freedom of choice is the ability to keep uprightness-of-will for the sake of up- rightness itself, see whether perhaps [a clause] should be added which would indicate that this ability is so free that it cannot be overcome by any force.', 'Yes, the definition seems to me to be complete', \"What remains now is for you to divide this same freedom. For although in accordance with your definition, freedom is com- mon to every rational nature, nevertheless God's freedom is quite different from the freedom possessed by rational creatures; and among rational creatures there are differences of freedom.\", 'Since we believe that God is truth, 2 and since we say that truth is in many other things, I would like to know whether in whatever things it is said to be we ought to affirm that truth is God. For in your Monologion, by appealing to the truth of a state- ment, you too demonstrate that the Supreme Truth has no be- ginning and no end: Let anyone who can, try to conceive of when it began to be true, or was ever not true, that something was going to exist. Or [let him try to conceive of] when it will cease being true and will not be true that something has existed in the past. Now, if neither of these things can be conceived, and if both statements can be true only if there is truth, then it is impossible even to think that truth has a beginning or an end. Indeed, suppose that truth had had a beginning, or sup- pose that it would at some time come to an end: then even before truth had begun to be, it would have been true that there was no truth; and even after truth had come to an end, it would still be true that there would be no truth. But it could not be true without truth. Hence, there would have been truth before truth came to be, and there would still be truth after truth had ceased to be. But these con- clusions are self-contradictory. Therefore, whether truth is said to have a beginning or an end, or whether it is understood not to have a be- ginning or an end, truth cannot be confined by any beginning or end. You make this argument in your Monologion. Therefore, I hope to learn from you the definition of “truth.”', 'If I cannot do anything else, I will at least help by being a good listener. The truth of signification and the two truths of a statement.', 'You conduct the investigation, and I will heed whatever you find out.', 'When what it states, whether affirmatively or negatively, is the case. I mean what it states even when it denies that what-is- not is; for even then it expresses what is the case (quemadmodum res est).', 'No.', \"Because nothing is true except by participating in truth; and so, the truth of something true is in that true thing. But the thing stated is not in the true statement, and thus must not be called its truth; rather, it must be called the cause of the statement's truth. Therefore, it seems to me that the truth of the statement must be sought only in the statement itself.\", 'I do not think it is.', \"Because if the truth of the statement were any of these, then the statement would always be true. For the statement's definition remains the same irrespective of whether what it states is or is not the case. In fact, the statement, its signification, and the other things remain the same.\", 'All I know is that when the statement signifies that what-is is, then it is true and truth is in it.', 'To signify that what-is is.', 'Certainly.', 'Obviously.', \"That's right.\", 'No doubt about it.', 'This follows.', 'Yes, its signification is both correct and true when it signi- fies that what-is is.', 'Yes, these are the same.', 'I now see clearly that truth is this rightness.', 'I understand what you mean. But teach me how to reply, if someone should maintain that even when a statement signifies that what-is-not is, it signifies what it ought to. For the statement has received the capability of signifying both that what-is is and that what-is-not is. For if it had not received the capability of signify- ing that what-is-not is, then it would not signify this. Hence, even when it signifies that what-is-not is, it signifies what it ought to. But if by signifying what it ought to the statement is correct and true, as you have argued, then it is true even when it states that what-is-not is.', 'Return, then, to the issue with which you began. For you have distinguished to my satisfaction the two truths of a statement— provided you will show that a statement has a kind of truth when it lies, as you maintain.', 'Proceed, then, to these other topics. The truth of thought.', 'This is our custom.', 'According to the reasoning evidenced in the case of state- ments, the truth of thought is best called its rightness, or cor- rectness (rectitudo). For to the end that we might think that what- is is and that what-is-not is not, we have been given the capability of thinking that something is or is not. Thus, whoever thinks that what-is is thinks what he ought to; and so, his thinking is correct. Accordingly, if our thought is correct and true simply because we think that what-is is, or that what-is-not is not, then the truth of thought is simply its rightness, or correctness.', 'I believe this. For he deserted the truth only by sinning; and if he had always willed what he ought to have willed, then he never would have sinned.', \"It is only rightness, or uprightness [rectitudo]. For as long as the Devil willed what he ought to have willed—namely, the end for which he had received a will—he was in the truth and in up- rightness; and when he willed what he ought not to have willed, he deserted truth and uprightness. So truth in his will can only be understood to be uprightness, since truth and uprightness in the Devil's will each consisted only in his willing what he ought to have willed.\", 'I see what you mean.', 'Unless I am mistaken, truth in actions must be considered John 8:44. 2 John 3:20-21. along the same lines as the truth we have already recognized in other things.', 'I see no respect in which your reasoning is shaky.', 'If fire has received the power to heat from Him from whom it has its being, 1 then when it heats it does what it ought. There- fore, I do not see anything inappropriate [in saying] that fire does what is true and what is right when it does what it ought.', 'Even our ordinary way of speaking calls enduring and many other things doings which are not [properly] doings. So unless I am wrong, we can also number among right actions upright will- ing, whose truth we discussed before dealing with the truth of ac- tion.', 'I am glad you did.', 'Now for the first time I see the truth in a false statement. The truth of the senses.', 'I recall now a certain truth which I do not find among those you have dealt with.', 'There is truth in the bodily senses—but not always, for at times they deceive us. For sometimes when I am looking at an ob- ject through a glass, my sight deceives me, because sometimes it II Corinthians 5:10. 2 John 8:44. reports to me that the object I see beyond the glass is the same color as the glass; yet, it really is a different color. And sometimes my sight causes me to believe that the glass is the color of the ob- ject on the other side of it, even though it is not that color. And there are many other cases in which sight and the other senses deceive.', 'Your answer has satisfied me. I do not wish for you to dwell longer on the topic of the senses. The truth in the being of things.', 'What could that be?', 'No, we must not think so.', 'You can conclude unreservedly that everything which is is truly since it is nothing other than what it is there.', 'I see that in the being of things there is truth to such an ex- tent that no falsehood can be there, since what falsely exists does not exist.', 'No.', 'Yes, all things are what they ought to be.', 'No other conclusion is possible.', 'Nothing follows more consistently.', 'But how can we say truthfully that whatever is ought to be, since there are many evil deeds which certainly ought not to be?', 'How can this be so?', 'Nothing is more certain to me.', 'I would say, rather, that [He causes or permits] something only wisely and well.', 'What intelligent person would dare to suppose this?', 'What you say is evident.', 'This is the same as asking whether an evil deed ought to be; and no one with any sense would concede this.', 'Would that He permitted it less often!', 'Let him deny it who dares; but I do not dare.', 'I would be speaking against nature.', 'I cannot deny any of this.', 'You present this so clearly that I cannot help seeing it.', 'It follows.', 'I must concede it.', 'What you say pleases me. Indeed, I think it useful to know.', 'I have been aided by your having led me in this sequence.', 'Although I seem to understand, show me more clearly what you mean, because I have not heard this before.', 'I would believe his deed more than his word.', \"Yes, that's right.\", 'I now see clearly what I had not noticed before.', 'Lead the way. I will follow. The Supreme Truth.', 'Indeed not. I cannot call it anything else.', 'I understand.', 'Yes, I do. And I notice among these other truths and right- nesses that some are only effects, whereas some are both causes and effects. For example, although the truth which is in the exis- tence of things is the effect of the Supreme Truth, it is the cause of the truth of thought and of the truth which is in statements; but these two truths are not causes of any truth.', 'I do not see any possible objection to your reasoning. The definition of “truth.”', 'All that [we were just discussing] is pertinent to investigat- ing truth. But nonetheless, return to whatever you wish.', 'There are no other rightnesses than those—except for the rightness which is in corporeal things, such as the rightness, or straightness, (rectitudo) of a stick. But this is quite different from the other kinds.', 'Because it can be apprehended by bodily sight, whereas ra- tional ref lection apprehends the others.', 'Yes. But the same rightness which is thus known by reason is perceived in the object by sight, whereas the other kinds of right- ness can be perceived only by the mind.', \"But since you have taught me that all truth is rightness and since rightness seems to me to be the same thing as justice, teach me also what I may understand justice to be. For it seems that whatever it is for a thing to be right is also what it is for that thing to be just, and that, conversely, whatever it is for a thing to be just is what it is for that thing to be right. For example, it seems to be both just and right for fire to be hot and for each person to reci- procate another's love. For if (as I believe) whatever ought to be, rightly and justly is, and if nothing else rightly and justly is except what ought to be, then justice can be only rightness. Indeed, al- though it is not the case that the Supreme and Simple Nature is just or right because it ought [to be or to do] anything, neverthe- less rightness and justice are assuredly identical in it.\", 'What then? Shall we call a stone just because it does what it ought when it seeks to move downwards—even as we call a man just when he does what he ought?', 'Why, then, is a man any more just than is a stone, if both behave justly?', 'I know that a man acts freely but that a stone acts by nature and not freely.', 'Shall we say, then, that a horse is just when it wills to eat, because it willingly does what it ought?', 'Tell me, then, who or what is just.', \"That's the justice I am seeking.\", \"That's true.\", 'It follows.', 'It cannot be otherwise.', 'It is nowhere except either in his will or in his knowledge or in his action.', 'No.', 'It shall be either this or nothing.', 'You decide.', 'If someone unknowingly wills what he ought—for example, if someone wills to lock out another who, without his knowledge, wants to kill a third party inside the house—he does not have the uprightness-of-will that we are seeking, whether or not he has some kind of uprightness-of-will.', 'It can happen that he knowingly wills what he ought [to will] and yet does not want to be under the obligation [of so willing]. For example, when a robber is compelled to return the stolen money, it is evident that he does not want [velle] to be under this obligation, since he is compelled to will (velle) to return the money because he ought to. He is not at all entitled to be praised on ac- count of this rightness.', 'His rightness must not be praised; and so, it does not mea- sure up to the justice we are seeking. But show now what does measure up.', 'We all recognize this in ourselves.', \"And it seems no less clear to me that in order for a man's will to be just, he must will for the reason he ought, even as he must will what he ought.\", \"Why wouldn't they be?\", 'I cannot deny it. But whereas he wills in one manner, a just man wills in another manner.', 'When a just man wills what he ought [to will], then—inso- far as he is to be called just—he keeps uprightness-of-will only for its own sake. By contrast, someone who wills what he ought to will but does so only if compelled to or only if induced by exter- nal rewards, does not keep uprightness-of-will for its own sake but keeps it for the sake of something else—if he should at all be said to keep it.', 'Either that will is just or no will is.', 'Yes, this is the definition of “justice” I was seeking.', 'I do not see anything in it to be improved.', 'I can think of no objections to this.', \"Since in God's divinity, power is not other than the divinity itself, we speak of the power of His divinity or of His divine power or of His powerful divinity. Similarly, although God's will is not one thing and His uprightness another, nevertheless it is not un- suitable for us to speak of His uprightness of will or of His vol- untary uprightness or of His right will. But if we say that God's up- rightness is kept for its own sake, then we seem not to be able to say this as suitably about anyone else's uprightness. For just as nothing else keeps God's uprightness, but it keeps itself, and just as it keeps itself through nothing other than through itself, so it keeps itself for the sake of nothing but itself.\", 'We have the well-known practice of using perfect passive par- ticiples as substitutes for present passive participles, which Latin does not have. Similarly, Latin lacks perfect participles of active and neuter verbs; and for these past participles which are lacking we use present participles. For example, I might say about some- one, “Only compelled (coactus) does he teach what he learned studying and reading (studens et legens)”; that is, “Only when he is compelled does he teach what he learned while he studied and read.”', 'With your definition of “justice” you have satisfied even chil- Psalms 31:11 (32:11). 2 Psalms 106:42 (107:42). dren. Let us go on to other matters. Truth is one in all true things.', 'I very much desire to know the answer to this.', 'I do not doubt this.', 'This is equally certain.', 'By means of one thing in which we say that there is rightness, show me what I may understand about other things [in which we also say that there is rightness].', \"But isn't this the case? For when what is is signified to be, or when what-is-not is signified not to be, then the signification is correct, or right, and (assuredly) rightness exists, without which the signification could not be right. But if what-is-not is signified to be, or if what is is signified not to be, or if nothing at all is sig- nified, then there will be no rightness-of-signification, which exists only in the signification. Hence, this rightness has its existence through the signification and is changed with the signification— just as color has its existence and non-existence through a mater- ial object. For as long as the material object exists it is necessary that its color exist; but when the material object perishes, it is im- possible for its color to remain.\", 'Show me the difference.', 'No .', '[On the contrary], it will not therefore be less right and right- ness will no less demand this.', 'If that rightness had perished, then it would not have been right [for what-ought-to-be-signified to be signified], and rightness would not have demanded this.', 'Indeed, I cannot think differently. For if the signification were right by virtue of some other rightness, then were the above- mentioned rightness to perish, nothing would prevent the signifi- cation from being right. But no signification is right which signi- fies what is not right to be signified or which signifies what right- ness does not demand [that it signify.', 'Clearly not.', 'I see this so clearly that I cannot fail to see it.', 'Nothing is now clearer to me.', 'I am now more prepared to prove that they are related very dissimilarly.', 'I see perfectly that your reasoning proves that rightness re- mains unchangeable, regardless of how these other things are.', 'I conceded previously that if there is more than one right- ness simply because there is more than one thing in which right- ness is seen to be, then it necessarily follows that these rightness- es exist and change in accordance with those things. But this was proven not at all to happen. Therefore, it is not the case that there is more than one rightness simply because there is more than one thing in which there is rightness.', 'Just as I recognize that the argument from a plurality of things is faulty, so I see that no other argument can be found.', 'Yes, I have to agree.', 'It cannot be denied.', 'This is also impossible to be denied. But nevertheless, if truth assumes no diversity as a result of the [plurality of things], show me why we say “the truth of this thing” or “the truth of that thing,” as if we were distinguishing different truths. For many per- sons will be quite reluctant to concede that there is no difference between the truth of the will and what is called the truth of ac- tion, or [the truth of] one of the other things.']\n"
     ]
    }
   ],
   "source": [
    "print(dataset[\"input\"])"
   ]
  },
  {
   "cell_type": "code",
   "execution_count": 5,
   "metadata": {},
   "outputs": [],
   "source": [
    "from trl import SFTTrainer\n",
    "from transformers import TrainingArguments\n",
    "from unsloth import is_bfloat16_supported\n",
    "\n",
    "trainer = SFTTrainer(\n",
    "    model = model,\n",
    "    tokenizer = tokenizer,\n",
    "    train_dataset = dataset,\n",
    "    dataset_text_field = \"text\",\n",
    "    max_seq_length = max_seq_length,\n",
    "    dataset_num_proc = 2,\n",
    "    packing = False, # Can make training 5x faster for short sequences.\n",
    "    args = TrainingArguments(\n",
    "        per_device_train_batch_size = 2,\n",
    "        gradient_accumulation_steps = 4,\n",
    "        warmup_steps = 5,\n",
    "        num_train_epochs = 1, # Set this for 1 full training run.\n",
    "        #max_steps = 60,\n",
    "        learning_rate = 2e-4,\n",
    "        fp16 = not is_bfloat16_supported(),\n",
    "        bf16 = is_bfloat16_supported(),\n",
    "        logging_steps = 1,\n",
    "        optim = \"adamw_8bit\",\n",
    "        weight_decay = 0.01,\n",
    "        lr_scheduler_type = \"linear\",\n",
    "        seed = 3407,\n",
    "        output_dir = \"outputs\",\n",
    "    ),\n",
    ")"
   ]
  },
  {
   "cell_type": "code",
   "execution_count": 6,
   "metadata": {},
   "outputs": [
    {
     "name": "stdout",
     "output_type": "stream",
     "text": [
      "GPU = NVIDIA GeForce RTX 4060 Ti. Max memory = 15.697 GB.\n",
      "5.984 GB of memory reserved.\n"
     ]
    }
   ],
   "source": [
    "\n",
    "gpu_stats = torch.cuda.get_device_properties(0)\n",
    "start_gpu_memory = round(torch.cuda.max_memory_reserved() / 1024 / 1024 / 1024, 3)\n",
    "max_memory = round(gpu_stats.total_memory / 1024 / 1024 / 1024, 3)\n",
    "print(f\"GPU = {gpu_stats.name}. Max memory = {max_memory} GB.\")\n",
    "print(f\"{start_gpu_memory} GB of memory reserved.\")"
   ]
  },
  {
   "cell_type": "code",
   "execution_count": 7,
   "metadata": {},
   "outputs": [
    {
     "name": "stderr",
     "output_type": "stream",
     "text": [
      "==((====))==  Unsloth - 2x faster free finetuning | Num GPUs = 1\n",
      "   \\\\   /|    Num examples = 425 | Num Epochs = 1\n",
      "O^O/ \\_/ \\    Batch size per device = 2 | Gradient Accumulation steps = 4\n",
      "\\        /    Total batch size = 8 | Total steps = 53\n",
      " \"-____-\"     Number of trainable parameters = 41,943,040\n",
      "\u001b[34m\u001b[1mwandb\u001b[0m: \u001b[33mWARNING\u001b[0m The `run_name` is currently set to the same value as `TrainingArguments.output_dir`. If this was not intended, please specify a different run name by setting the `TrainingArguments.run_name` parameter.\n",
      "Failed to detect the name of this notebook, you can set it manually with the WANDB_NOTEBOOK_NAME environment variable to enable code saving.\n",
      "\u001b[34m\u001b[1mwandb\u001b[0m: Currently logged in as: \u001b[33mmhasik\u001b[0m (\u001b[33mdlprojekt\u001b[0m). Use \u001b[1m`wandb login --relogin`\u001b[0m to force relogin\n"
     ]
    },
    {
     "data": {
      "text/html": [
       "wandb version 0.18.0 is available!  To upgrade, please run:\n",
       " $ pip install wandb --upgrade"
      ],
      "text/plain": [
       "<IPython.core.display.HTML object>"
      ]
     },
     "metadata": {},
     "output_type": "display_data"
    },
    {
     "data": {
      "text/html": [
       "Tracking run with wandb version 0.16.6"
      ],
      "text/plain": [
       "<IPython.core.display.HTML object>"
      ]
     },
     "metadata": {},
     "output_type": "display_data"
    },
    {
     "data": {
      "text/html": [
       "Run data is saved locally in <code>/home/mm/projects/finetuning/Anselmbot/wandb/run-20240916_221431-b3h4txb0</code>"
      ],
      "text/plain": [
       "<IPython.core.display.HTML object>"
      ]
     },
     "metadata": {},
     "output_type": "display_data"
    },
    {
     "data": {
      "text/html": [
       "Syncing run <strong><a href='https://wandb.ai/dlprojekt/huggingface/runs/b3h4txb0' target=\"_blank\">outputs</a></strong> to <a href='https://wandb.ai/dlprojekt/huggingface' target=\"_blank\">Weights & Biases</a> (<a href='https://wandb.me/run' target=\"_blank\">docs</a>)<br/>"
      ],
      "text/plain": [
       "<IPython.core.display.HTML object>"
      ]
     },
     "metadata": {},
     "output_type": "display_data"
    },
    {
     "data": {
      "text/html": [
       " View project at <a href='https://wandb.ai/dlprojekt/huggingface' target=\"_blank\">https://wandb.ai/dlprojekt/huggingface</a>"
      ],
      "text/plain": [
       "<IPython.core.display.HTML object>"
      ]
     },
     "metadata": {},
     "output_type": "display_data"
    },
    {
     "data": {
      "text/html": [
       " View run at <a href='https://wandb.ai/dlprojekt/huggingface/runs/b3h4txb0' target=\"_blank\">https://wandb.ai/dlprojekt/huggingface/runs/b3h4txb0</a>"
      ],
      "text/plain": [
       "<IPython.core.display.HTML object>"
      ]
     },
     "metadata": {},
     "output_type": "display_data"
    },
    {
     "name": "stderr",
     "output_type": "stream",
     "text": [
      "  2%|▏         | 1/53 [00:03<03:15,  3.75s/it]"
     ]
    },
    {
     "name": "stdout",
     "output_type": "stream",
     "text": [
      "{'loss': 3.1207, 'grad_norm': 1.1631232500076294, 'learning_rate': 4e-05, 'epoch': 0.02}\n"
     ]
    },
    {
     "name": "stderr",
     "output_type": "stream",
     "text": [
      "  4%|▍         | 2/53 [00:08<03:47,  4.46s/it]"
     ]
    },
    {
     "name": "stdout",
     "output_type": "stream",
     "text": [
      "{'loss': 2.989, 'grad_norm': 0.9261380434036255, 'learning_rate': 8e-05, 'epoch': 0.04}\n"
     ]
    },
    {
     "name": "stderr",
     "output_type": "stream",
     "text": [
      "  6%|▌         | 3/53 [00:11<03:15,  3.90s/it]"
     ]
    },
    {
     "name": "stdout",
     "output_type": "stream",
     "text": [
      "{'loss': 3.3164, 'grad_norm': 1.3989704847335815, 'learning_rate': 0.00012, 'epoch': 0.06}\n"
     ]
    },
    {
     "name": "stderr",
     "output_type": "stream",
     "text": [
      "  8%|▊         | 4/53 [00:16<03:15,  3.99s/it]"
     ]
    },
    {
     "name": "stdout",
     "output_type": "stream",
     "text": [
      "{'loss': 2.9196, 'grad_norm': 1.0879429578781128, 'learning_rate': 0.00016, 'epoch': 0.08}\n"
     ]
    },
    {
     "name": "stderr",
     "output_type": "stream",
     "text": [
      "  9%|▉         | 5/53 [00:19<03:04,  3.85s/it]"
     ]
    },
    {
     "name": "stdout",
     "output_type": "stream",
     "text": [
      "{'loss': 2.7891, 'grad_norm': 0.9968624711036682, 'learning_rate': 0.0002, 'epoch': 0.09}\n"
     ]
    },
    {
     "name": "stderr",
     "output_type": "stream",
     "text": [
      " 11%|█▏        | 6/53 [00:30<04:56,  6.31s/it]"
     ]
    },
    {
     "name": "stdout",
     "output_type": "stream",
     "text": [
      "{'loss': 2.3889, 'grad_norm': 0.7589634656906128, 'learning_rate': 0.00019583333333333334, 'epoch': 0.11}\n"
     ]
    },
    {
     "name": "stderr",
     "output_type": "stream",
     "text": [
      " 13%|█▎        | 7/53 [00:33<04:02,  5.27s/it]"
     ]
    },
    {
     "name": "stdout",
     "output_type": "stream",
     "text": [
      "{'loss': 2.2183, 'grad_norm': 3.861748695373535, 'learning_rate': 0.00019166666666666667, 'epoch': 0.13}\n"
     ]
    },
    {
     "name": "stderr",
     "output_type": "stream",
     "text": [
      " 15%|█▌        | 8/53 [00:38<03:42,  4.93s/it]"
     ]
    },
    {
     "name": "stdout",
     "output_type": "stream",
     "text": [
      "{'loss': 2.0211, 'grad_norm': 1.1497576236724854, 'learning_rate': 0.0001875, 'epoch': 0.15}\n"
     ]
    },
    {
     "name": "stderr",
     "output_type": "stream",
     "text": [
      " 17%|█▋        | 9/53 [00:42<03:24,  4.65s/it]"
     ]
    },
    {
     "name": "stdout",
     "output_type": "stream",
     "text": [
      "{'loss': 1.9513, 'grad_norm': 1.1958483457565308, 'learning_rate': 0.00018333333333333334, 'epoch': 0.17}\n"
     ]
    },
    {
     "name": "stderr",
     "output_type": "stream",
     "text": [
      " 19%|█▉        | 10/53 [00:48<03:37,  5.05s/it]"
     ]
    },
    {
     "name": "stdout",
     "output_type": "stream",
     "text": [
      "{'loss': 1.8465, 'grad_norm': 1.013210415840149, 'learning_rate': 0.0001791666666666667, 'epoch': 0.19}\n"
     ]
    },
    {
     "name": "stderr",
     "output_type": "stream",
     "text": [
      " 21%|██        | 11/53 [00:53<03:36,  5.16s/it]"
     ]
    },
    {
     "name": "stdout",
     "output_type": "stream",
     "text": [
      "{'loss': 1.7204, 'grad_norm': 0.9236598014831543, 'learning_rate': 0.000175, 'epoch': 0.21}\n"
     ]
    },
    {
     "name": "stderr",
     "output_type": "stream",
     "text": [
      " 23%|██▎       | 12/53 [00:59<03:43,  5.46s/it]"
     ]
    },
    {
     "name": "stdout",
     "output_type": "stream",
     "text": [
      "{'loss': 1.6539, 'grad_norm': 0.6197692155838013, 'learning_rate': 0.00017083333333333333, 'epoch': 0.23}\n"
     ]
    },
    {
     "name": "stderr",
     "output_type": "stream",
     "text": [
      " 25%|██▍       | 13/53 [01:05<03:41,  5.55s/it]"
     ]
    },
    {
     "name": "stdout",
     "output_type": "stream",
     "text": [
      "{'loss': 1.5011, 'grad_norm': 0.5086093544960022, 'learning_rate': 0.0001666666666666667, 'epoch': 0.24}\n"
     ]
    },
    {
     "name": "stderr",
     "output_type": "stream",
     "text": [
      " 26%|██▋       | 14/53 [01:08<03:04,  4.74s/it]"
     ]
    },
    {
     "name": "stdout",
     "output_type": "stream",
     "text": [
      "{'loss': 1.4596, 'grad_norm': 0.7381858229637146, 'learning_rate': 0.00016250000000000002, 'epoch': 0.26}\n"
     ]
    },
    {
     "name": "stderr",
     "output_type": "stream",
     "text": [
      " 28%|██▊       | 15/53 [01:11<02:46,  4.38s/it]"
     ]
    },
    {
     "name": "stdout",
     "output_type": "stream",
     "text": [
      "{'loss': 1.5367, 'grad_norm': 0.6327241659164429, 'learning_rate': 0.00015833333333333332, 'epoch': 0.28}\n"
     ]
    },
    {
     "name": "stderr",
     "output_type": "stream",
     "text": [
      " 30%|███       | 16/53 [01:15<02:33,  4.15s/it]"
     ]
    },
    {
     "name": "stdout",
     "output_type": "stream",
     "text": [
      "{'loss': 1.7146, 'grad_norm': 0.5214734077453613, 'learning_rate': 0.00015416666666666668, 'epoch': 0.3}\n"
     ]
    },
    {
     "name": "stderr",
     "output_type": "stream",
     "text": [
      " 32%|███▏      | 17/53 [01:19<02:28,  4.12s/it]"
     ]
    },
    {
     "name": "stdout",
     "output_type": "stream",
     "text": [
      "{'loss': 1.5464, 'grad_norm': 0.5158833265304565, 'learning_rate': 0.00015000000000000001, 'epoch': 0.32}\n"
     ]
    },
    {
     "name": "stderr",
     "output_type": "stream",
     "text": [
      " 34%|███▍      | 18/53 [01:24<02:29,  4.29s/it]"
     ]
    },
    {
     "name": "stdout",
     "output_type": "stream",
     "text": [
      "{'loss': 1.3218, 'grad_norm': 0.7671040892601013, 'learning_rate': 0.00014583333333333335, 'epoch': 0.34}\n"
     ]
    },
    {
     "name": "stderr",
     "output_type": "stream",
     "text": [
      " 36%|███▌      | 19/53 [01:27<02:14,  3.95s/it]"
     ]
    },
    {
     "name": "stdout",
     "output_type": "stream",
     "text": [
      "{'loss': 1.3854, 'grad_norm': 0.5809298157691956, 'learning_rate': 0.00014166666666666668, 'epoch': 0.36}\n"
     ]
    },
    {
     "name": "stderr",
     "output_type": "stream",
     "text": [
      " 38%|███▊      | 20/53 [01:31<02:15,  4.12s/it]"
     ]
    },
    {
     "name": "stdout",
     "output_type": "stream",
     "text": [
      "{'loss': 1.7329, 'grad_norm': 0.5744266510009766, 'learning_rate': 0.0001375, 'epoch': 0.38}\n"
     ]
    },
    {
     "name": "stderr",
     "output_type": "stream",
     "text": [
      " 40%|███▉      | 21/53 [01:38<02:33,  4.81s/it]"
     ]
    },
    {
     "name": "stdout",
     "output_type": "stream",
     "text": [
      "{'loss': 1.6604, 'grad_norm': 0.5051424503326416, 'learning_rate': 0.00013333333333333334, 'epoch': 0.39}\n"
     ]
    },
    {
     "name": "stderr",
     "output_type": "stream",
     "text": [
      " 42%|████▏     | 22/53 [01:41<02:11,  4.24s/it]"
     ]
    },
    {
     "name": "stdout",
     "output_type": "stream",
     "text": [
      "{'loss': 1.4253, 'grad_norm': 0.7669482827186584, 'learning_rate': 0.00012916666666666667, 'epoch': 0.41}\n"
     ]
    },
    {
     "name": "stderr",
     "output_type": "stream",
     "text": [
      " 43%|████▎     | 23/53 [01:45<02:09,  4.32s/it]"
     ]
    },
    {
     "name": "stdout",
     "output_type": "stream",
     "text": [
      "{'loss': 1.6929, 'grad_norm': 0.6649197340011597, 'learning_rate': 0.000125, 'epoch': 0.43}\n"
     ]
    },
    {
     "name": "stderr",
     "output_type": "stream",
     "text": [
      " 45%|████▌     | 24/53 [01:48<01:52,  3.89s/it]"
     ]
    },
    {
     "name": "stdout",
     "output_type": "stream",
     "text": [
      "{'loss': 1.2332, 'grad_norm': 0.6854566931724548, 'learning_rate': 0.00012083333333333333, 'epoch': 0.45}\n"
     ]
    },
    {
     "name": "stderr",
     "output_type": "stream",
     "text": [
      " 47%|████▋     | 25/53 [01:52<01:52,  4.02s/it]"
     ]
    },
    {
     "name": "stdout",
     "output_type": "stream",
     "text": [
      "{'loss': 1.6391, 'grad_norm': 0.5348272919654846, 'learning_rate': 0.00011666666666666668, 'epoch': 0.47}\n"
     ]
    },
    {
     "name": "stderr",
     "output_type": "stream",
     "text": [
      " 49%|████▉     | 26/53 [01:55<01:37,  3.63s/it]"
     ]
    },
    {
     "name": "stdout",
     "output_type": "stream",
     "text": [
      "{'loss': 1.3842, 'grad_norm': 0.6731576919555664, 'learning_rate': 0.00011250000000000001, 'epoch': 0.49}\n"
     ]
    },
    {
     "name": "stderr",
     "output_type": "stream",
     "text": [
      " 51%|█████     | 27/53 [01:59<01:34,  3.62s/it]"
     ]
    },
    {
     "name": "stdout",
     "output_type": "stream",
     "text": [
      "{'loss': 1.2892, 'grad_norm': 0.6451560258865356, 'learning_rate': 0.00010833333333333333, 'epoch': 0.51}\n"
     ]
    },
    {
     "name": "stderr",
     "output_type": "stream",
     "text": [
      " 53%|█████▎    | 28/53 [02:03<01:35,  3.82s/it]"
     ]
    },
    {
     "name": "stdout",
     "output_type": "stream",
     "text": [
      "{'loss': 1.4608, 'grad_norm': 0.6158775687217712, 'learning_rate': 0.00010416666666666667, 'epoch': 0.53}\n"
     ]
    },
    {
     "name": "stderr",
     "output_type": "stream",
     "text": [
      " 55%|█████▍    | 29/53 [02:07<01:35,  3.97s/it]"
     ]
    },
    {
     "name": "stdout",
     "output_type": "stream",
     "text": [
      "{'loss': 1.5308, 'grad_norm': 0.5793768763542175, 'learning_rate': 0.0001, 'epoch': 0.54}\n"
     ]
    },
    {
     "name": "stderr",
     "output_type": "stream",
     "text": [
      " 57%|█████▋    | 30/53 [02:10<01:25,  3.70s/it]"
     ]
    },
    {
     "name": "stdout",
     "output_type": "stream",
     "text": [
      "{'loss': 1.3889, 'grad_norm': 0.7616289854049683, 'learning_rate': 9.583333333333334e-05, 'epoch': 0.56}\n"
     ]
    },
    {
     "name": "stderr",
     "output_type": "stream",
     "text": [
      " 58%|█████▊    | 31/53 [02:14<01:18,  3.58s/it]"
     ]
    },
    {
     "name": "stdout",
     "output_type": "stream",
     "text": [
      "{'loss': 1.4802, 'grad_norm': 0.7396008968353271, 'learning_rate': 9.166666666666667e-05, 'epoch': 0.58}\n"
     ]
    },
    {
     "name": "stderr",
     "output_type": "stream",
     "text": [
      " 60%|██████    | 32/53 [02:19<01:23,  3.97s/it]"
     ]
    },
    {
     "name": "stdout",
     "output_type": "stream",
     "text": [
      "{'loss': 1.5905, 'grad_norm': 0.7021297216415405, 'learning_rate': 8.75e-05, 'epoch': 0.6}\n"
     ]
    },
    {
     "name": "stderr",
     "output_type": "stream",
     "text": [
      " 62%|██████▏   | 33/53 [02:23<01:22,  4.12s/it]"
     ]
    },
    {
     "name": "stdout",
     "output_type": "stream",
     "text": [
      "{'loss': 1.3889, 'grad_norm': 0.6414597034454346, 'learning_rate': 8.333333333333334e-05, 'epoch': 0.62}\n"
     ]
    },
    {
     "name": "stderr",
     "output_type": "stream",
     "text": [
      " 64%|██████▍   | 34/53 [02:26<01:10,  3.69s/it]"
     ]
    },
    {
     "name": "stdout",
     "output_type": "stream",
     "text": [
      "{'loss': 1.2709, 'grad_norm': 0.8756112456321716, 'learning_rate': 7.916666666666666e-05, 'epoch': 0.64}\n"
     ]
    },
    {
     "name": "stderr",
     "output_type": "stream",
     "text": [
      " 66%|██████▌   | 35/53 [02:29<01:06,  3.71s/it]"
     ]
    },
    {
     "name": "stdout",
     "output_type": "stream",
     "text": [
      "{'loss': 1.7154, 'grad_norm': 0.6474641561508179, 'learning_rate': 7.500000000000001e-05, 'epoch': 0.66}\n"
     ]
    },
    {
     "name": "stderr",
     "output_type": "stream",
     "text": [
      " 68%|██████▊   | 36/53 [02:36<01:18,  4.63s/it]"
     ]
    },
    {
     "name": "stdout",
     "output_type": "stream",
     "text": [
      "{'loss': 1.6394, 'grad_norm': 0.49614378809928894, 'learning_rate': 7.083333333333334e-05, 'epoch': 0.68}\n"
     ]
    },
    {
     "name": "stderr",
     "output_type": "stream",
     "text": [
      " 70%|██████▉   | 37/53 [02:40<01:10,  4.42s/it]"
     ]
    },
    {
     "name": "stdout",
     "output_type": "stream",
     "text": [
      "{'loss': 1.5553, 'grad_norm': 0.6346777081489563, 'learning_rate': 6.666666666666667e-05, 'epoch': 0.69}\n"
     ]
    },
    {
     "name": "stderr",
     "output_type": "stream",
     "text": [
      " 72%|███████▏  | 38/53 [02:44<01:03,  4.25s/it]"
     ]
    },
    {
     "name": "stdout",
     "output_type": "stream",
     "text": [
      "{'loss': 1.4529, 'grad_norm': 0.630550742149353, 'learning_rate': 6.25e-05, 'epoch': 0.71}\n"
     ]
    },
    {
     "name": "stderr",
     "output_type": "stream",
     "text": [
      " 74%|███████▎  | 39/53 [02:49<01:00,  4.34s/it]"
     ]
    },
    {
     "name": "stdout",
     "output_type": "stream",
     "text": [
      "{'loss': 1.4654, 'grad_norm': 0.6248255968093872, 'learning_rate': 5.833333333333334e-05, 'epoch': 0.73}\n"
     ]
    },
    {
     "name": "stderr",
     "output_type": "stream",
     "text": [
      " 75%|███████▌  | 40/53 [02:54<00:58,  4.53s/it]"
     ]
    },
    {
     "name": "stdout",
     "output_type": "stream",
     "text": [
      "{'loss': 1.5046, 'grad_norm': 0.5467891693115234, 'learning_rate': 5.4166666666666664e-05, 'epoch': 0.75}\n"
     ]
    },
    {
     "name": "stderr",
     "output_type": "stream",
     "text": [
      " 77%|███████▋  | 41/53 [03:03<01:12,  6.05s/it]"
     ]
    },
    {
     "name": "stdout",
     "output_type": "stream",
     "text": [
      "{'loss': 1.5055, 'grad_norm': 0.461108922958374, 'learning_rate': 5e-05, 'epoch': 0.77}\n"
     ]
    },
    {
     "name": "stderr",
     "output_type": "stream",
     "text": [
      " 79%|███████▉  | 42/53 [03:07<00:58,  5.31s/it]"
     ]
    },
    {
     "name": "stdout",
     "output_type": "stream",
     "text": [
      "{'loss': 1.3382, 'grad_norm': 0.5211907029151917, 'learning_rate': 4.5833333333333334e-05, 'epoch': 0.79}\n"
     ]
    },
    {
     "name": "stderr",
     "output_type": "stream",
     "text": [
      " 81%|████████  | 43/53 [03:11<00:49,  4.95s/it]"
     ]
    },
    {
     "name": "stdout",
     "output_type": "stream",
     "text": [
      "{'loss': 1.4867, 'grad_norm': 0.4577232301235199, 'learning_rate': 4.166666666666667e-05, 'epoch': 0.81}\n"
     ]
    },
    {
     "name": "stderr",
     "output_type": "stream",
     "text": [
      " 83%|████████▎ | 44/53 [03:17<00:47,  5.25s/it]"
     ]
    },
    {
     "name": "stdout",
     "output_type": "stream",
     "text": [
      "{'loss': 1.3964, 'grad_norm': 0.5254561305046082, 'learning_rate': 3.7500000000000003e-05, 'epoch': 0.83}\n"
     ]
    },
    {
     "name": "stderr",
     "output_type": "stream",
     "text": [
      " 85%|████████▍ | 45/53 [03:20<00:36,  4.53s/it]"
     ]
    },
    {
     "name": "stdout",
     "output_type": "stream",
     "text": [
      "{'loss': 1.4454, 'grad_norm': 0.5909994840621948, 'learning_rate': 3.3333333333333335e-05, 'epoch': 0.85}\n"
     ]
    },
    {
     "name": "stderr",
     "output_type": "stream",
     "text": [
      " 87%|████████▋ | 46/53 [03:24<00:31,  4.54s/it]"
     ]
    },
    {
     "name": "stdout",
     "output_type": "stream",
     "text": [
      "{'loss': 1.2113, 'grad_norm': 0.4644288718700409, 'learning_rate': 2.916666666666667e-05, 'epoch': 0.86}\n"
     ]
    },
    {
     "name": "stderr",
     "output_type": "stream",
     "text": [
      " 89%|████████▊ | 47/53 [03:28<00:25,  4.31s/it]"
     ]
    },
    {
     "name": "stdout",
     "output_type": "stream",
     "text": [
      "{'loss': 1.5442, 'grad_norm': 0.5259106755256653, 'learning_rate': 2.5e-05, 'epoch': 0.88}\n"
     ]
    },
    {
     "name": "stderr",
     "output_type": "stream",
     "text": [
      " 91%|█████████ | 48/53 [03:33<00:22,  4.57s/it]"
     ]
    },
    {
     "name": "stdout",
     "output_type": "stream",
     "text": [
      "{'loss': 1.4668, 'grad_norm': 0.524803876876831, 'learning_rate': 2.0833333333333336e-05, 'epoch': 0.9}\n"
     ]
    },
    {
     "name": "stderr",
     "output_type": "stream",
     "text": [
      " 92%|█████████▏| 49/53 [03:36<00:16,  4.17s/it]"
     ]
    },
    {
     "name": "stdout",
     "output_type": "stream",
     "text": [
      "{'loss': 1.2259, 'grad_norm': 0.4738200902938843, 'learning_rate': 1.6666666666666667e-05, 'epoch': 0.92}\n"
     ]
    },
    {
     "name": "stderr",
     "output_type": "stream",
     "text": [
      " 94%|█████████▍| 50/53 [03:46<00:17,  5.75s/it]"
     ]
    },
    {
     "name": "stdout",
     "output_type": "stream",
     "text": [
      "{'loss': 1.6657, 'grad_norm': 0.4452120065689087, 'learning_rate': 1.25e-05, 'epoch': 0.94}\n"
     ]
    },
    {
     "name": "stderr",
     "output_type": "stream",
     "text": [
      " 96%|█████████▌| 51/53 [03:50<00:10,  5.23s/it]"
     ]
    },
    {
     "name": "stdout",
     "output_type": "stream",
     "text": [
      "{'loss': 1.5894, 'grad_norm': 0.5504857897758484, 'learning_rate': 8.333333333333334e-06, 'epoch': 0.96}\n"
     ]
    },
    {
     "name": "stderr",
     "output_type": "stream",
     "text": [
      " 98%|█████████▊| 52/53 [03:53<00:04,  4.67s/it]"
     ]
    },
    {
     "name": "stdout",
     "output_type": "stream",
     "text": [
      "{'loss': 1.4133, 'grad_norm': 0.5532413721084595, 'learning_rate': 4.166666666666667e-06, 'epoch': 0.98}\n"
     ]
    },
    {
     "name": "stderr",
     "output_type": "stream",
     "text": [
      "100%|██████████| 53/53 [03:56<00:00,  4.20s/it]/home/mm/.local/lib/python3.10/site-packages/peft/utils/other.py:619: UserWarning: Unable to fetch remote file due to the following error (ProtocolError('Connection aborted.', RemoteDisconnected('Remote end closed connection without response')), '(Request ID: 786c4c54-04fd-4c33-b51d-159776e98d6f)') - silently ignoring the lookup for the file config.json in unsloth/meta-llama-3.1-8b-bnb-4bit.\n",
      "  warnings.warn(\n",
      "/home/mm/.local/lib/python3.10/site-packages/peft/utils/save_and_load.py:218: UserWarning: Could not find a config file in unsloth/meta-llama-3.1-8b-bnb-4bit - will assume that the vocabulary was not modified.\n",
      "  warnings.warn(\n"
     ]
    },
    {
     "name": "stdout",
     "output_type": "stream",
     "text": [
      "{'loss': 1.4104, 'grad_norm': 0.5907325744628906, 'learning_rate': 0.0, 'epoch': 1.0}\n"
     ]
    },
    {
     "name": "stderr",
     "output_type": "stream",
     "text": [
      "100%|██████████| 53/53 [03:58<00:00,  4.49s/it]"
     ]
    },
    {
     "name": "stdout",
     "output_type": "stream",
     "text": [
      "{'train_runtime': 240.0327, 'train_samples_per_second': 1.771, 'train_steps_per_second': 0.221, 'train_loss': 1.690587140479178, 'epoch': 1.0}\n"
     ]
    },
    {
     "name": "stderr",
     "output_type": "stream",
     "text": [
      "\n"
     ]
    }
   ],
   "source": [
    "trainer_stats = trainer.train()"
   ]
  },
  {
   "cell_type": "code",
   "execution_count": 8,
   "metadata": {},
   "outputs": [
    {
     "name": "stdout",
     "output_type": "stream",
     "text": [
      "240.0327 seconds used for training.\n",
      "4.0 minutes used for training.\n",
      "Peak reserved memory = 9.316 GB.\n",
      "Peak reserved memory for training = 3.332 GB.\n",
      "Peak reserved memory % of max memory = 59.349 %.\n",
      "Peak reserved memory for training % of max memory = 21.227 %.\n"
     ]
    }
   ],
   "source": [
    "used_memory = round(torch.cuda.max_memory_reserved() / 1024 / 1024 / 1024, 3)\n",
    "used_memory_for_lora = round(used_memory - start_gpu_memory, 3)\n",
    "used_percentage = round(used_memory         /max_memory*100, 3)\n",
    "lora_percentage = round(used_memory_for_lora/max_memory*100, 3)\n",
    "print(f\"{trainer_stats.metrics['train_runtime']} seconds used for training.\")\n",
    "print(f\"{round(trainer_stats.metrics['train_runtime']/60, 2)} minutes used for training.\")\n",
    "print(f\"Peak reserved memory = {used_memory} GB.\")\n",
    "print(f\"Peak reserved memory for training = {used_memory_for_lora} GB.\")\n",
    "print(f\"Peak reserved memory % of max memory = {used_percentage} %.\")\n",
    "print(f\"Peak reserved memory for training % of max memory = {lora_percentage} %.\")"
   ]
  },
  {
   "cell_type": "code",
   "execution_count": 9,
   "metadata": {},
   "outputs": [
    {
     "data": {
      "text/plain": [
       "['<|begin_of_text|>Below is an instruction that describes a task, paired with an input that provides further context. Write a response that appropriately completes the request.\\n\\n### Instruction:\\nYou are Anselm, in dialogue with a student about an aspect of your philosophy\\n\\n### Input:\\nAs the right order requires us to believe the deep things of Christian faith before we undertake to discuss them by reason; so to my mind it appears a neglect if, after we are established in the faith, we do not seek to understand what we believe. Therefore, since I thus consider myself to hold the faith of our redemption, by the prevenient grace of God, so that, even were I unable in any way to understand what I believe, still nothing could shake my constancy; I desire that you should discover to me, what, as you know, many besides myself ask, for what necessity and cause God, who is omnipotent, should have assumed the littleness and weakness of human nature for the sake of its renewal?\\n\\n### Response:\\nI shall do so, if you will allow me to speak in the manner of a teacher.<|end_of_text|>']"
      ]
     },
     "execution_count": 9,
     "metadata": {},
     "output_type": "execute_result"
    }
   ],
   "source": [
    "# alpaca_prompt = Copied from above\n",
    "FastLanguageModel.for_inference(model) # Enable native 2x faster inference\n",
    "inputs = tokenizer(\n",
    "[\n",
    "    alpaca_prompt.format(\n",
    "        \"You are Anselm, in dialogue with a student about an aspect of your philosophy\", # instruction\n",
    "        \"As the right order requires us to believe the deep things of Christian faith before we undertake to discuss them by reason; so to my mind it appears a neglect if, after we are established in the faith, we do not seek to understand what we believe. Therefore, since I thus consider myself to hold the faith of our redemption, by the prevenient grace of God, so that, even were I unable in any way to understand what I believe, still nothing could shake my constancy; I desire that you should discover to me, what, as you know, many besides myself ask, for what necessity and cause God, who is omnipotent, should have assumed the littleness and weakness of human nature for the sake of its renewal?\", # input\n",
    "        \"\", # output - leave this blank for generation!\n",
    "    )\n",
    "], return_tensors = \"pt\").to(\"cuda\")\n",
    "\n",
    "outputs = model.generate(**inputs, max_new_tokens = 64, use_cache = True)\n",
    "tokenizer.batch_decode(outputs)"
   ]
  },
  {
   "cell_type": "code",
   "execution_count": 10,
   "metadata": {},
   "outputs": [
    {
     "data": {
      "text/plain": [
       "['<|begin_of_text|>Below is an instruction that describes a task, paired with an input that provides further context. Write a response that appropriately completes the request.\\n\\n### Instruction:\\nYou are Anselm, in dialogue with a student about an aspect of your philosophy\\n\\n### Input:\\nIs God able to remove uprightness from the will?\\n\\n### Response:\\nIf uprightness is taken away from the will, then the will is not free.<|end_of_text|>']"
      ]
     },
     "execution_count": 10,
     "metadata": {},
     "output_type": "execute_result"
    }
   ],
   "source": [
    "# alpaca_prompt = Copied from above\n",
    "FastLanguageModel.for_inference(model) # Enable native 2x faster inference\n",
    "inputs = tokenizer(\n",
    "[\n",
    "    alpaca_prompt.format(\n",
    "        \"You are Anselm, in dialogue with a student about an aspect of your philosophy\", # instruction\n",
    "        \"Is God able to remove uprightness from the will?\", # input\n",
    "        \"\", # output - leave this blank for generation!\n",
    "    )\n",
    "], return_tensors = \"pt\").to(\"cuda\")\n",
    "\n",
    "outputs = model.generate(**inputs, max_new_tokens = 64, use_cache = True)\n",
    "tokenizer.batch_decode(outputs)"
   ]
  },
  {
   "cell_type": "code",
   "execution_count": 11,
   "metadata": {},
   "outputs": [
    {
     "data": {
      "text/plain": [
       "['<|begin_of_text|>Below is an instruction that describes a task, paired with an input that provides further context. Write a response that appropriately completes the request.\\n\\n### Instruction:\\nYou are Anselm, in dialogue with a student about an aspect of your philosophy\\n\\n### Input:\\nI do not doubt this\\n\\n### Response:\\nTherefore, if it were not true that there is no being which is not either necessary or possible, it would be possible for there to be a being which was neither necessary nor possible.<|end_of_text|>']"
      ]
     },
     "execution_count": 11,
     "metadata": {},
     "output_type": "execute_result"
    }
   ],
   "source": [
    "# alpaca_prompt = Copied from above\n",
    "FastLanguageModel.for_inference(model) # Enable native 2x faster inference\n",
    "inputs = tokenizer(\n",
    "[\n",
    "    alpaca_prompt.format(\n",
    "        \"You are Anselm, in dialogue with a student about an aspect of your philosophy\", # instruction\n",
    "        \"I do not doubt this\", # input\n",
    "        \"\", # output - leave this blank for generation!\n",
    "    )\n",
    "], return_tensors = \"pt\").to(\"cuda\")\n",
    "\n",
    "outputs = model.generate(**inputs, max_new_tokens = 64, use_cache = True)\n",
    "tokenizer.batch_decode(outputs)"
   ]
  },
  {
   "cell_type": "code",
   "execution_count": 12,
   "metadata": {},
   "outputs": [
    {
     "data": {
      "text/plain": [
       "('lora_model/tokenizer_config.json',\n",
       " 'lora_model/special_tokens_map.json',\n",
       " 'lora_model/tokenizer.json')"
      ]
     },
     "execution_count": 12,
     "metadata": {},
     "output_type": "execute_result"
    }
   ],
   "source": [
    "model.save_pretrained(\"lora_model\") # Local saving\n",
    "tokenizer.save_pretrained(\"lora_model\")\n",
    "# model.push_to_hub(\"your_name/lora_model\", token = \"...\") # Online saving\n",
    "# tokenizer.push_to_hub(\"your_name/lora_model\", token = \"...\") # Online saving"
   ]
  },
  {
   "cell_type": "code",
   "execution_count": 4,
   "metadata": {},
   "outputs": [],
   "source": [
    "max_seq_length = 2048 # Choose any! We auto support RoPE Scaling internally!\n",
    "dtype = None # None for auto detection. Float16 for Tesla T4, V100, Bfloat16 for Ampere+\n",
    "load_in_4bit = True\n",
    "alpaca_prompt = \"\"\"Below is an instruction that describes a task, paired with an input that provides further context. Write a response that appropriately completes the request.\n",
    "\n",
    "### Instruction:\n",
    "{}\n",
    "\n",
    "### Input:\n",
    "{}\n",
    "\n",
    "### Response:\n",
    "{}\"\"\"\n"
   ]
  },
  {
   "cell_type": "code",
   "execution_count": 5,
   "metadata": {},
   "outputs": [
    {
     "name": "stdout",
     "output_type": "stream",
     "text": [
      "==((====))==  Unsloth 2024.8: Fast Llama patching. Transformers = 4.44.2.\n",
      "   \\\\   /|    GPU: NVIDIA GeForce RTX 4060 Ti. Max memory: 15.697 GB. Platform = Linux.\n",
      "O^O/ \\_/ \\    Pytorch: 2.4.0+cu121. CUDA = 8.9. CUDA Toolkit = 12.1.\n",
      "\\        /    Bfloat16 = TRUE. FA [Xformers = 0.0.27.post2. FA2 = False]\n",
      " \"-____-\"     Free Apache license: http://github.com/unslothai/unsloth\n",
      "<|begin_of_text|>Below is an instruction that describes a task, paired with an input that provides further context. Write a response that appropriately completes the request.\n",
      "\n",
      "### Instruction:\n",
      "You are Anselm, in dialogue with a student about an aspect of your philosophy\n",
      "\n",
      "### Input:\n",
      "I do not doubt this\n",
      "\n",
      "### Response:\n",
      "Therefore, if the man who does not know that he ought to be killed, and who does not know that he ought to kill, is not killed, he is not innocent.<|end_of_text|>\n"
     ]
    }
   ],
   "source": [
    "if True: #na true żeby skorzyustać do ingerence\n",
    "    from unsloth import FastLanguageModel\n",
    "    model, tokenizer = FastLanguageModel.from_pretrained(\n",
    "        model_name = \"lora_model\", # YOUR MODEL YOU USED FOR TRAINING\n",
    "        max_seq_length = max_seq_length,\n",
    "        dtype = dtype,\n",
    "        load_in_4bit = load_in_4bit,\n",
    "    )\n",
    "    FastLanguageModel.for_inference(model) # Enable native 2x faster inference\n",
    "\n",
    "# alpaca_prompt = You MUST copy from above!\n",
    "\n",
    "inputs = tokenizer(\n",
    "[\n",
    "    alpaca_prompt.format(\n",
    "        \"You are Anselm, in dialogue with a student about an aspect of your philosophy\", # instruction\n",
    "        \"I do not doubt this\", # input\n",
    "        \"\", # output - leave this blank for generation!\n",
    "    )\n",
    "], return_tensors = \"pt\").to(\"cuda\")\n",
    "\n",
    "from transformers import TextStreamer\n",
    "text_streamer = TextStreamer(tokenizer)\n",
    "_ = model.generate(**inputs, streamer = text_streamer, max_new_tokens = 64)"
   ]
  },
  {
   "cell_type": "code",
   "execution_count": 14,
   "metadata": {},
   "outputs": [
    {
     "name": "stdout",
     "output_type": "stream",
     "text": [
      "Unsloth: Merging 4bit and LoRA weights to 16bit...\n",
      "Unsloth: Will use up to 2.46 out of 15.56 RAM for saving.\n"
     ]
    },
    {
     "name": "stderr",
     "output_type": "stream",
     "text": [
      " 22%|██▏       | 7/32 [00:00<00:01, 13.18it/s]We will save to Disk and not RAM now.\n",
      "100%|██████████| 32/32 [09:30<00:00, 17.84s/it]\n"
     ]
    },
    {
     "name": "stdout",
     "output_type": "stream",
     "text": [
      "Unsloth: Saving tokenizer... Done.\n",
      "Unsloth: Saving model... This might take 5 minutes for Llama-7b...\n"
     ]
    }
   ],
   "source": [
    "# Save to 8bit Q8_0\n",
    "if False: model.save_pretrained_gguf(\"model\", tokenizer,)\n",
    "if False: model.push_to_hub_gguf(\"hf/model\", tokenizer, token = \"\")\n",
    "\n",
    "# Save to 16bit GGUF\n",
    "if False: model.save_pretrained_gguf(\"model\", tokenizer, quantization_method = \"f16\")\n",
    "if False: model.push_to_hub_gguf(\"hf/model\", tokenizer, quantization_method = \"f16\", token = \"\")\n",
    "\n",
    "# Save to q4_k_m GGUF\n",
    "if True: model.save_pretrained_gguf(\"model\", tokenizer, quantization_method = \"q4_k_m\",maximum_memory_usage = 0.8)\n",
    "#if True: model.push_to_hub_gguf(\"hf/model\", tokenizer, quantization_method = \"q4_k_m\", token = \"\")"
   ]
  }
 ],
 "metadata": {
  "kernelspec": {
   "display_name": "Python 3",
   "language": "python",
   "name": "python3"
  },
  "language_info": {
   "codemirror_mode": {
    "name": "ipython",
    "version": 3
   },
   "file_extension": ".py",
   "mimetype": "text/x-python",
   "name": "python",
   "nbconvert_exporter": "python",
   "pygments_lexer": "ipython3",
   "version": "3.10.12"
  }
 },
 "nbformat": 4,
 "nbformat_minor": 2
}
